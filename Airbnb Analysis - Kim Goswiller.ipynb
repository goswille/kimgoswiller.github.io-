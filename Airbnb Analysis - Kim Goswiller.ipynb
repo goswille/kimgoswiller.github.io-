{
 "cells": [
  {
   "cell_type": "markdown",
   "metadata": {
    "slideshow": {
     "slide_type": "-"
    }
   },
   "source": [
    "# 2020 Airbnb Analysis"
   ]
  },
  {
   "cell_type": "markdown",
   "metadata": {
    "slideshow": {
     "slide_type": "-"
    }
   },
   "source": [
    "This notebook details the approaches used and recommendations arrived at when evaluating the impact of price, type of room, minimum night stay, availability, neighborhood, and instant booking feature on Airbnb ratings. \n",
    "\n",
    "It also seeks to understand the relationship between review comments and review rating for Airbnbs in Los Angeles, CA. Comment text is used to predict review ratings.\n",
    "\n",
    "The date range of the review data ranges from January 2019 to November 2020. Only hosts with one property and listing with nightly prices of $300 or less were included in the analysis to ensure similarity in listings being assessed.\n",
    "\n",
    "\n",
    "This notebook is broken into 4 parts: \n",
    "\n",
    "PART 1 - DATA CLEANING\n",
    "\n",
    "PART 2 - DATA EXPLORATION \n",
    "\n",
    "PART 3 - DATA ANALYSIS\n",
    "\n",
    "PART 4 - RECOMMENDATIONS"
   ]
  },
  {
   "cell_type": "markdown",
   "metadata": {},
   "source": [
    "## PART 1 - DATA CLEANING"
   ]
  },
  {
   "cell_type": "markdown",
   "metadata": {},
   "source": [
    "Listing and review level data is pulled into the notebook. In listing level data, ratings of value, communication,and location are summed into one variable titled, \"aggregate_review_score.\" Listing level data is joined with review level data on listing id to later predict listing ratings by review text.\n",
    "\n",
    "Review level data contains a review date. The number of reviews pre 3/31/2020 and the number of reviews post 3/31/2020 are calculated in order to assess the change in total reviews per listing post COVID."
   ]
  },
  {
   "cell_type": "markdown",
   "metadata": {},
   "source": [
    "### Importing pandas, matplotlib, and seaborn, etc."
   ]
  },
  {
   "cell_type": "code",
   "execution_count": 161,
   "metadata": {},
   "outputs": [],
   "source": [
    "import pandas as pd\n",
    "from sklearn.cluster import DBSCAN\n",
    "from sklearn.feature_extraction.text import CountVectorizer ,TfidfVectorizer, ENGLISH_STOP_WORDS\n",
    "import matplotlib.pyplot as plt\n",
    "import seaborn as sns\n",
    "import numpy as np\n",
    "import collections\n",
    "import re, string\n",
    "import sys\n",
    "import time\n",
    "from nltk.corpus import stopwords\n",
    "\n",
    "%matplotlib inline"
   ]
  },
  {
   "cell_type": "markdown",
   "metadata": {},
   "source": [
    "### Pulling in data, merging listing level data"
   ]
  },
  {
   "cell_type": "code",
   "execution_count": 162,
   "metadata": {},
   "outputs": [],
   "source": [
    "listings = pd.read_csv('data/listings.csv',\n",
    "                   parse_dates=['last_review'])\n",
    "listings = listings[listings['number_of_reviews']>200]\n",
    "listings['last_review_year'] = [str(i.year) for i in listings.last_review]\n",
    "listings['last_review_year'] = listings['last_review_year'].astype(int) \n",
    "listings = listings[listings['last_review_year']>=2019]\n",
    "listings = listings[listings['calculated_host_listings_count']==1]\n",
    "listings = listings[listings['price']<=300]\n",
    "\n",
    "listings_detail = pd.read_csv('data/listings-2.csv')\n",
    "reviews = pd.read_csv('data/reviews-2.csv', parse_dates=['date'])\n",
    "listing_level_data = pd.merge(listings, listings_detail, on='id', how='inner')\n",
    "listing_level_data.rename(columns = {'id':'listing_id'}, inplace = True)"
   ]
  },
  {
   "cell_type": "markdown",
   "metadata": {},
   "source": [
    "### Calculating aggregate review score in listing level data by summing communication, location, and value"
   ]
  },
  {
   "cell_type": "code",
   "execution_count": 163,
   "metadata": {},
   "outputs": [],
   "source": [
    "aggregate_review_score = listing_level_data[\"review_scores_communication\"] + listing_level_data[\"review_scores_location\"] + listing_level_data[\"review_scores_value\"]\n",
    "\n",
    "listing_level_data[\"aggregate_reviews\"] = aggregate_review_score"
   ]
  },
  {
   "cell_type": "markdown",
   "metadata": {},
   "source": [
    "### Pulling in review level data, merging review and listing level data"
   ]
  },
  {
   "cell_type": "code",
   "execution_count": 164,
   "metadata": {},
   "outputs": [],
   "source": [
    "reviews = pd.read_csv('data/reviews-2.csv', parse_dates=['date'])\n",
    "reviews['year'] = [str(i.year) for i in reviews.date]\n",
    "reviews['month'] = [str(i.month) for i in reviews.date]\n",
    "reviews['year'] = reviews['year'].astype(int) \n",
    "reviews = reviews[reviews['year']>=2019]\n",
    "review_level_data = pd.merge(reviews, listing_level_data, on='listing_id', how='inner')"
   ]
  },
  {
   "cell_type": "markdown",
   "metadata": {},
   "source": [
    "### Identifying net change in total reviews pre and post COVID"
   ]
  },
  {
   "cell_type": "code",
   "execution_count": 165,
   "metadata": {},
   "outputs": [],
   "source": [
    "review_level_data.insert(1, 'Count_Use', 1)\n",
    "\n",
    "start_date = \"2020-3-1\"\n",
    "\n",
    "datafromcohort1 = review_level_data[review_level_data[\"date\"] <= start_date].groupby('listing_id').Count_Use.sum()\n",
    "datafromcohort2 = review_level_data[review_level_data[\"date\"] > start_date].groupby('listing_id').Count_Use.sum()\n",
    "\n",
    "prior_year_date = \"2019-3-1\"\n",
    "\n",
    "datafromcohort1 = review_level_data[review_level_data[\"date\"] >= prior_year_date].groupby('listing_id').Count_Use.sum()\n",
    "\n",
    "current_year_date = \"2020-3-1\"\n",
    "\n",
    "datafromcohort2 = review_level_data[review_level_data[\"date\"] >= current_year_date].groupby('listing_id').Count_Use.sum()\n",
    "\n",
    "review_total_change = pd.merge(datafromcohort1, datafromcohort2, on='listing_id', how='inner')\n",
    "review_total_change.head()\n",
    "\n",
    "review_total_change['review_change'] = review_total_change.apply(lambda x: x['Count_Use_y'] - x['Count_Use_x'], axis=1)\n",
    "\n",
    "reviews_cohort_1 = pd.merge(review_level_data, review_total_change, on='listing_id', how='outer')\n",
    "\n",
    "listing_level_data = pd.merge(listing_level_data, review_total_change, on='listing_id', how='outer')"
   ]
  },
  {
   "cell_type": "markdown",
   "metadata": {},
   "source": [
    "### Examining listing and review level dataframes"
   ]
  },
  {
   "cell_type": "code",
   "execution_count": 166,
   "metadata": {},
   "outputs": [
    {
     "data": {
      "text/html": [
       "<div>\n",
       "<style scoped>\n",
       "    .dataframe tbody tr th:only-of-type {\n",
       "        vertical-align: middle;\n",
       "    }\n",
       "\n",
       "    .dataframe tbody tr th {\n",
       "        vertical-align: top;\n",
       "    }\n",
       "\n",
       "    .dataframe thead th {\n",
       "        text-align: right;\n",
       "    }\n",
       "</style>\n",
       "<table border=\"1\" class=\"dataframe\">\n",
       "  <thead>\n",
       "    <tr style=\"text-align: right;\">\n",
       "      <th></th>\n",
       "      <th>listing_id</th>\n",
       "      <th>name_x</th>\n",
       "      <th>host_id_x</th>\n",
       "      <th>host_name_x</th>\n",
       "      <th>neighbourhood_group</th>\n",
       "      <th>neighbourhood_x</th>\n",
       "      <th>latitude_x</th>\n",
       "      <th>longitude_x</th>\n",
       "      <th>room_type_x</th>\n",
       "      <th>price_x</th>\n",
       "      <th>...</th>\n",
       "      <th>instant_bookable</th>\n",
       "      <th>calculated_host_listings_count_y</th>\n",
       "      <th>calculated_host_listings_count_entire_homes</th>\n",
       "      <th>calculated_host_listings_count_private_rooms</th>\n",
       "      <th>calculated_host_listings_count_shared_rooms</th>\n",
       "      <th>reviews_per_month_y</th>\n",
       "      <th>aggregate_reviews</th>\n",
       "      <th>Count_Use_x</th>\n",
       "      <th>Count_Use_y</th>\n",
       "      <th>review_change</th>\n",
       "    </tr>\n",
       "  </thead>\n",
       "  <tbody>\n",
       "    <tr>\n",
       "      <th>0</th>\n",
       "      <td>8770</td>\n",
       "      <td>Cozy Guest House on Venice Walk St.</td>\n",
       "      <td>26996</td>\n",
       "      <td>Lillian</td>\n",
       "      <td>City of Los Angeles</td>\n",
       "      <td>Venice</td>\n",
       "      <td>33.99399</td>\n",
       "      <td>-118.45637</td>\n",
       "      <td>Entire home/apt</td>\n",
       "      <td>122</td>\n",
       "      <td>...</td>\n",
       "      <td>f</td>\n",
       "      <td>1</td>\n",
       "      <td>1</td>\n",
       "      <td>0</td>\n",
       "      <td>0</td>\n",
       "      <td>3.02</td>\n",
       "      <td>29.0</td>\n",
       "      <td>NaN</td>\n",
       "      <td>NaN</td>\n",
       "      <td>NaN</td>\n",
       "    </tr>\n",
       "    <tr>\n",
       "      <th>1</th>\n",
       "      <td>9140</td>\n",
       "      <td>City Place Lofts</td>\n",
       "      <td>28350</td>\n",
       "      <td>Wendell</td>\n",
       "      <td>Other Cities</td>\n",
       "      <td>Long Beach</td>\n",
       "      <td>33.77206</td>\n",
       "      <td>-118.18893</td>\n",
       "      <td>Private room</td>\n",
       "      <td>80</td>\n",
       "      <td>...</td>\n",
       "      <td>t</td>\n",
       "      <td>1</td>\n",
       "      <td>0</td>\n",
       "      <td>1</td>\n",
       "      <td>0</td>\n",
       "      <td>4.23</td>\n",
       "      <td>30.0</td>\n",
       "      <td>NaN</td>\n",
       "      <td>NaN</td>\n",
       "      <td>NaN</td>\n",
       "    </tr>\n",
       "    <tr>\n",
       "      <th>2</th>\n",
       "      <td>20585</td>\n",
       "      <td>Private Studio, 6 Doors to Beach</td>\n",
       "      <td>77857</td>\n",
       "      <td>Barbara</td>\n",
       "      <td>City of Los Angeles</td>\n",
       "      <td>Venice</td>\n",
       "      <td>33.98012</td>\n",
       "      <td>-118.46490</td>\n",
       "      <td>Entire home/apt</td>\n",
       "      <td>124</td>\n",
       "      <td>...</td>\n",
       "      <td>f</td>\n",
       "      <td>1</td>\n",
       "      <td>1</td>\n",
       "      <td>0</td>\n",
       "      <td>0</td>\n",
       "      <td>3.75</td>\n",
       "      <td>30.0</td>\n",
       "      <td>66.0</td>\n",
       "      <td>7.0</td>\n",
       "      <td>-59.0</td>\n",
       "    </tr>\n",
       "    <tr>\n",
       "      <th>3</th>\n",
       "      <td>23710</td>\n",
       "      <td>Green Sputnik in Highland Park</td>\n",
       "      <td>94038</td>\n",
       "      <td>Tatiana</td>\n",
       "      <td>City of Los Angeles</td>\n",
       "      <td>Highland Park</td>\n",
       "      <td>34.12003</td>\n",
       "      <td>-118.19038</td>\n",
       "      <td>Entire home/apt</td>\n",
       "      <td>108</td>\n",
       "      <td>...</td>\n",
       "      <td>t</td>\n",
       "      <td>1</td>\n",
       "      <td>1</td>\n",
       "      <td>0</td>\n",
       "      <td>0</td>\n",
       "      <td>2.10</td>\n",
       "      <td>NaN</td>\n",
       "      <td>102.0</td>\n",
       "      <td>7.0</td>\n",
       "      <td>-95.0</td>\n",
       "    </tr>\n",
       "    <tr>\n",
       "      <th>4</th>\n",
       "      <td>24030</td>\n",
       "      <td>Beach Bungalow one block to ocean</td>\n",
       "      <td>96147</td>\n",
       "      <td>Michaela</td>\n",
       "      <td>City of Los Angeles</td>\n",
       "      <td>Venice</td>\n",
       "      <td>33.98798</td>\n",
       "      <td>-118.47301</td>\n",
       "      <td>Entire home/apt</td>\n",
       "      <td>130</td>\n",
       "      <td>...</td>\n",
       "      <td>f</td>\n",
       "      <td>1</td>\n",
       "      <td>1</td>\n",
       "      <td>0</td>\n",
       "      <td>0</td>\n",
       "      <td>5.46</td>\n",
       "      <td>30.0</td>\n",
       "      <td>NaN</td>\n",
       "      <td>NaN</td>\n",
       "      <td>NaN</td>\n",
       "    </tr>\n",
       "  </tbody>\n",
       "</table>\n",
       "<p>5 rows × 94 columns</p>\n",
       "</div>"
      ],
      "text/plain": [
       "   listing_id                               name_x  host_id_x host_name_x  \\\n",
       "0        8770  Cozy Guest House on Venice Walk St.      26996     Lillian   \n",
       "1        9140                     City Place Lofts      28350     Wendell   \n",
       "2       20585     Private Studio, 6 Doors to Beach      77857     Barbara   \n",
       "3       23710       Green Sputnik in Highland Park      94038     Tatiana   \n",
       "4       24030    Beach Bungalow one block to ocean      96147    Michaela   \n",
       "\n",
       "   neighbourhood_group neighbourhood_x  latitude_x  longitude_x  \\\n",
       "0  City of Los Angeles          Venice    33.99399   -118.45637   \n",
       "1         Other Cities      Long Beach    33.77206   -118.18893   \n",
       "2  City of Los Angeles          Venice    33.98012   -118.46490   \n",
       "3  City of Los Angeles   Highland Park    34.12003   -118.19038   \n",
       "4  City of Los Angeles          Venice    33.98798   -118.47301   \n",
       "\n",
       "       room_type_x  price_x  ...  instant_bookable  \\\n",
       "0  Entire home/apt      122  ...                 f   \n",
       "1     Private room       80  ...                 t   \n",
       "2  Entire home/apt      124  ...                 f   \n",
       "3  Entire home/apt      108  ...                 t   \n",
       "4  Entire home/apt      130  ...                 f   \n",
       "\n",
       "   calculated_host_listings_count_y  \\\n",
       "0                                 1   \n",
       "1                                 1   \n",
       "2                                 1   \n",
       "3                                 1   \n",
       "4                                 1   \n",
       "\n",
       "  calculated_host_listings_count_entire_homes  \\\n",
       "0                                           1   \n",
       "1                                           0   \n",
       "2                                           1   \n",
       "3                                           1   \n",
       "4                                           1   \n",
       "\n",
       "   calculated_host_listings_count_private_rooms  \\\n",
       "0                                             0   \n",
       "1                                             1   \n",
       "2                                             0   \n",
       "3                                             0   \n",
       "4                                             0   \n",
       "\n",
       "   calculated_host_listings_count_shared_rooms  reviews_per_month_y  \\\n",
       "0                                            0                 3.02   \n",
       "1                                            0                 4.23   \n",
       "2                                            0                 3.75   \n",
       "3                                            0                 2.10   \n",
       "4                                            0                 5.46   \n",
       "\n",
       "   aggregate_reviews Count_Use_x  Count_Use_y review_change  \n",
       "0               29.0         NaN          NaN           NaN  \n",
       "1               30.0         NaN          NaN           NaN  \n",
       "2               30.0        66.0          7.0         -59.0  \n",
       "3                NaN       102.0          7.0         -95.0  \n",
       "4               30.0         NaN          NaN           NaN  \n",
       "\n",
       "[5 rows x 94 columns]"
      ]
     },
     "execution_count": 166,
     "metadata": {},
     "output_type": "execute_result"
    }
   ],
   "source": [
    "listing_level_data.head()"
   ]
  },
  {
   "cell_type": "code",
   "execution_count": 167,
   "metadata": {},
   "outputs": [
    {
     "data": {
      "text/html": [
       "<div>\n",
       "<style scoped>\n",
       "    .dataframe tbody tr th:only-of-type {\n",
       "        vertical-align: middle;\n",
       "    }\n",
       "\n",
       "    .dataframe tbody tr th {\n",
       "        vertical-align: top;\n",
       "    }\n",
       "\n",
       "    .dataframe thead th {\n",
       "        text-align: right;\n",
       "    }\n",
       "</style>\n",
       "<table border=\"1\" class=\"dataframe\">\n",
       "  <thead>\n",
       "    <tr style=\"text-align: right;\">\n",
       "      <th></th>\n",
       "      <th>listing_id</th>\n",
       "      <th>Count_Use</th>\n",
       "      <th>id</th>\n",
       "      <th>date</th>\n",
       "      <th>reviewer_id</th>\n",
       "      <th>reviewer_name</th>\n",
       "      <th>comments</th>\n",
       "      <th>year</th>\n",
       "      <th>month</th>\n",
       "      <th>name_x</th>\n",
       "      <th>...</th>\n",
       "      <th>review_scores_location</th>\n",
       "      <th>review_scores_value</th>\n",
       "      <th>license</th>\n",
       "      <th>instant_bookable</th>\n",
       "      <th>calculated_host_listings_count_y</th>\n",
       "      <th>calculated_host_listings_count_entire_homes</th>\n",
       "      <th>calculated_host_listings_count_private_rooms</th>\n",
       "      <th>calculated_host_listings_count_shared_rooms</th>\n",
       "      <th>reviews_per_month_y</th>\n",
       "      <th>aggregate_reviews</th>\n",
       "    </tr>\n",
       "  </thead>\n",
       "  <tbody>\n",
       "    <tr>\n",
       "      <th>0</th>\n",
       "      <td>8770</td>\n",
       "      <td>1</td>\n",
       "      <td>404103410</td>\n",
       "      <td>2019-01-22</td>\n",
       "      <td>17427433</td>\n",
       "      <td>Miles</td>\n",
       "      <td>On one of the beautiful Venice walk streets th...</td>\n",
       "      <td>2019</td>\n",
       "      <td>1</td>\n",
       "      <td>Cozy Guest House on Venice Walk St.</td>\n",
       "      <td>...</td>\n",
       "      <td>10.0</td>\n",
       "      <td>9.0</td>\n",
       "      <td>HSR19-003129</td>\n",
       "      <td>f</td>\n",
       "      <td>1</td>\n",
       "      <td>1</td>\n",
       "      <td>0</td>\n",
       "      <td>0</td>\n",
       "      <td>3.02</td>\n",
       "      <td>29.0</td>\n",
       "    </tr>\n",
       "    <tr>\n",
       "      <th>1</th>\n",
       "      <td>8770</td>\n",
       "      <td>1</td>\n",
       "      <td>422998649</td>\n",
       "      <td>2019-03-12</td>\n",
       "      <td>3571431</td>\n",
       "      <td>Julianne</td>\n",
       "      <td>This listing is in a GARAGE and windows overlo...</td>\n",
       "      <td>2019</td>\n",
       "      <td>3</td>\n",
       "      <td>Cozy Guest House on Venice Walk St.</td>\n",
       "      <td>...</td>\n",
       "      <td>10.0</td>\n",
       "      <td>9.0</td>\n",
       "      <td>HSR19-003129</td>\n",
       "      <td>f</td>\n",
       "      <td>1</td>\n",
       "      <td>1</td>\n",
       "      <td>0</td>\n",
       "      <td>0</td>\n",
       "      <td>3.02</td>\n",
       "      <td>29.0</td>\n",
       "    </tr>\n",
       "    <tr>\n",
       "      <th>2</th>\n",
       "      <td>8770</td>\n",
       "      <td>1</td>\n",
       "      <td>426037940</td>\n",
       "      <td>2019-03-19</td>\n",
       "      <td>124656</td>\n",
       "      <td>Penelope</td>\n",
       "      <td>Lilian's guest house is nestled in one of the ...</td>\n",
       "      <td>2019</td>\n",
       "      <td>3</td>\n",
       "      <td>Cozy Guest House on Venice Walk St.</td>\n",
       "      <td>...</td>\n",
       "      <td>10.0</td>\n",
       "      <td>9.0</td>\n",
       "      <td>HSR19-003129</td>\n",
       "      <td>f</td>\n",
       "      <td>1</td>\n",
       "      <td>1</td>\n",
       "      <td>0</td>\n",
       "      <td>0</td>\n",
       "      <td>3.02</td>\n",
       "      <td>29.0</td>\n",
       "    </tr>\n",
       "    <tr>\n",
       "      <th>3</th>\n",
       "      <td>8770</td>\n",
       "      <td>1</td>\n",
       "      <td>429078909</td>\n",
       "      <td>2019-03-26</td>\n",
       "      <td>11791130</td>\n",
       "      <td>Susan</td>\n",
       "      <td>Lillian’s place is in a very quiet location wi...</td>\n",
       "      <td>2019</td>\n",
       "      <td>3</td>\n",
       "      <td>Cozy Guest House on Venice Walk St.</td>\n",
       "      <td>...</td>\n",
       "      <td>10.0</td>\n",
       "      <td>9.0</td>\n",
       "      <td>HSR19-003129</td>\n",
       "      <td>f</td>\n",
       "      <td>1</td>\n",
       "      <td>1</td>\n",
       "      <td>0</td>\n",
       "      <td>0</td>\n",
       "      <td>3.02</td>\n",
       "      <td>29.0</td>\n",
       "    </tr>\n",
       "    <tr>\n",
       "      <th>4</th>\n",
       "      <td>8770</td>\n",
       "      <td>1</td>\n",
       "      <td>434436768</td>\n",
       "      <td>2019-04-07</td>\n",
       "      <td>192884362</td>\n",
       "      <td>Charles</td>\n",
       "      <td>Lillian is an awesome host. Very cute place ve...</td>\n",
       "      <td>2019</td>\n",
       "      <td>4</td>\n",
       "      <td>Cozy Guest House on Venice Walk St.</td>\n",
       "      <td>...</td>\n",
       "      <td>10.0</td>\n",
       "      <td>9.0</td>\n",
       "      <td>HSR19-003129</td>\n",
       "      <td>f</td>\n",
       "      <td>1</td>\n",
       "      <td>1</td>\n",
       "      <td>0</td>\n",
       "      <td>0</td>\n",
       "      <td>3.02</td>\n",
       "      <td>29.0</td>\n",
       "    </tr>\n",
       "  </tbody>\n",
       "</table>\n",
       "<p>5 rows × 99 columns</p>\n",
       "</div>"
      ],
      "text/plain": [
       "   listing_id  Count_Use         id       date  reviewer_id reviewer_name  \\\n",
       "0        8770          1  404103410 2019-01-22     17427433         Miles   \n",
       "1        8770          1  422998649 2019-03-12      3571431      Julianne   \n",
       "2        8770          1  426037940 2019-03-19       124656      Penelope   \n",
       "3        8770          1  429078909 2019-03-26     11791130         Susan   \n",
       "4        8770          1  434436768 2019-04-07    192884362       Charles   \n",
       "\n",
       "                                            comments  year month  \\\n",
       "0  On one of the beautiful Venice walk streets th...  2019     1   \n",
       "1  This listing is in a GARAGE and windows overlo...  2019     3   \n",
       "2  Lilian's guest house is nestled in one of the ...  2019     3   \n",
       "3  Lillian’s place is in a very quiet location wi...  2019     3   \n",
       "4  Lillian is an awesome host. Very cute place ve...  2019     4   \n",
       "\n",
       "                                name_x  ...  review_scores_location  \\\n",
       "0  Cozy Guest House on Venice Walk St.  ...                    10.0   \n",
       "1  Cozy Guest House on Venice Walk St.  ...                    10.0   \n",
       "2  Cozy Guest House on Venice Walk St.  ...                    10.0   \n",
       "3  Cozy Guest House on Venice Walk St.  ...                    10.0   \n",
       "4  Cozy Guest House on Venice Walk St.  ...                    10.0   \n",
       "\n",
       "  review_scores_value       license instant_bookable  \\\n",
       "0                 9.0  HSR19-003129                f   \n",
       "1                 9.0  HSR19-003129                f   \n",
       "2                 9.0  HSR19-003129                f   \n",
       "3                 9.0  HSR19-003129                f   \n",
       "4                 9.0  HSR19-003129                f   \n",
       "\n",
       "   calculated_host_listings_count_y  \\\n",
       "0                                 1   \n",
       "1                                 1   \n",
       "2                                 1   \n",
       "3                                 1   \n",
       "4                                 1   \n",
       "\n",
       "   calculated_host_listings_count_entire_homes  \\\n",
       "0                                            1   \n",
       "1                                            1   \n",
       "2                                            1   \n",
       "3                                            1   \n",
       "4                                            1   \n",
       "\n",
       "  calculated_host_listings_count_private_rooms  \\\n",
       "0                                            0   \n",
       "1                                            0   \n",
       "2                                            0   \n",
       "3                                            0   \n",
       "4                                            0   \n",
       "\n",
       "   calculated_host_listings_count_shared_rooms  reviews_per_month_y  \\\n",
       "0                                            0                 3.02   \n",
       "1                                            0                 3.02   \n",
       "2                                            0                 3.02   \n",
       "3                                            0                 3.02   \n",
       "4                                            0                 3.02   \n",
       "\n",
       "   aggregate_reviews  \n",
       "0               29.0  \n",
       "1               29.0  \n",
       "2               29.0  \n",
       "3               29.0  \n",
       "4               29.0  \n",
       "\n",
       "[5 rows x 99 columns]"
      ]
     },
     "execution_count": 167,
     "metadata": {},
     "output_type": "execute_result"
    }
   ],
   "source": [
    "review_level_data.head()"
   ]
  },
  {
   "cell_type": "code",
   "execution_count": 168,
   "metadata": {},
   "outputs": [
    {
     "name": "stdout",
     "output_type": "stream",
     "text": [
      "<class 'pandas.core.frame.DataFrame'>\n",
      "Int64Index: 482 entries, 0 to 481\n",
      "Data columns (total 94 columns):\n",
      " #   Column                                        Non-Null Count  Dtype         \n",
      "---  ------                                        --------------  -----         \n",
      " 0   listing_id                                    482 non-null    int64         \n",
      " 1   name_x                                        482 non-null    object        \n",
      " 2   host_id_x                                     482 non-null    int64         \n",
      " 3   host_name_x                                   482 non-null    object        \n",
      " 4   neighbourhood_group                           482 non-null    object        \n",
      " 5   neighbourhood_x                               482 non-null    object        \n",
      " 6   latitude_x                                    482 non-null    float64       \n",
      " 7   longitude_x                                   482 non-null    float64       \n",
      " 8   room_type_x                                   482 non-null    object        \n",
      " 9   price_x                                       482 non-null    int64         \n",
      " 10  minimum_nights_x                              482 non-null    int64         \n",
      " 11  number_of_reviews_x                           482 non-null    int64         \n",
      " 12  last_review_x                                 482 non-null    datetime64[ns]\n",
      " 13  reviews_per_month_x                           482 non-null    float64       \n",
      " 14  calculated_host_listings_count_x              482 non-null    int64         \n",
      " 15  availability_365_x                            482 non-null    int64         \n",
      " 16  last_review_year                              482 non-null    int64         \n",
      " 17  listing_url                                   482 non-null    object        \n",
      " 18  scrape_id                                     482 non-null    int64         \n",
      " 19  last_scraped                                  482 non-null    object        \n",
      " 20  name_y                                        482 non-null    object        \n",
      " 21  description                                   482 non-null    object        \n",
      " 22  neighborhood_overview                         436 non-null    object        \n",
      " 23  picture_url                                   482 non-null    object        \n",
      " 24  host_id_y                                     482 non-null    int64         \n",
      " 25  host_url                                      482 non-null    object        \n",
      " 26  host_name_y                                   482 non-null    object        \n",
      " 27  host_since                                    482 non-null    object        \n",
      " 28  host_location                                 482 non-null    object        \n",
      " 29  host_about                                    411 non-null    object        \n",
      " 30  host_response_time                            419 non-null    object        \n",
      " 31  host_response_rate                            419 non-null    object        \n",
      " 32  host_acceptance_rate                          470 non-null    object        \n",
      " 33  host_is_superhost                             482 non-null    object        \n",
      " 34  host_thumbnail_url                            482 non-null    object        \n",
      " 35  host_picture_url                              482 non-null    object        \n",
      " 36  host_neighbourhood                            400 non-null    object        \n",
      " 37  host_listings_count                           482 non-null    float64       \n",
      " 38  host_total_listings_count                     482 non-null    float64       \n",
      " 39  host_verifications                            482 non-null    object        \n",
      " 40  host_has_profile_pic                          482 non-null    object        \n",
      " 41  host_identity_verified                        482 non-null    object        \n",
      " 42  neighbourhood_y                               436 non-null    object        \n",
      " 43  neighbourhood_cleansed                        482 non-null    object        \n",
      " 44  neighbourhood_group_cleansed                  482 non-null    object        \n",
      " 45  latitude_y                                    482 non-null    float64       \n",
      " 46  longitude_y                                   482 non-null    float64       \n",
      " 47  property_type                                 482 non-null    object        \n",
      " 48  room_type_y                                   482 non-null    object        \n",
      " 49  accommodates                                  482 non-null    int64         \n",
      " 50  bathrooms                                     0 non-null      float64       \n",
      " 51  bathrooms_text                                481 non-null    object        \n",
      " 52  bedrooms                                      384 non-null    float64       \n",
      " 53  beds                                          482 non-null    float64       \n",
      " 54  amenities                                     482 non-null    object        \n",
      " 55  price_y                                       482 non-null    object        \n",
      " 56  minimum_nights_y                              482 non-null    int64         \n",
      " 57  maximum_nights                                482 non-null    int64         \n",
      " 58  minimum_minimum_nights                        482 non-null    float64       \n",
      " 59  maximum_minimum_nights                        482 non-null    float64       \n",
      " 60  minimum_maximum_nights                        482 non-null    float64       \n",
      " 61  maximum_maximum_nights                        482 non-null    float64       \n",
      " 62  minimum_nights_avg_ntm                        482 non-null    float64       \n",
      " 63  maximum_nights_avg_ntm                        482 non-null    float64       \n",
      " 64  calendar_updated                              0 non-null      float64       \n",
      " 65  has_availability                              482 non-null    object        \n",
      " 66  availability_30                               482 non-null    int64         \n",
      " 67  availability_60                               482 non-null    int64         \n",
      " 68  availability_90                               482 non-null    int64         \n",
      " 69  availability_365_y                            482 non-null    int64         \n",
      " 70  calendar_last_scraped                         482 non-null    object        \n",
      " 71  number_of_reviews_y                           482 non-null    int64         \n",
      " 72  number_of_reviews_ltm                         482 non-null    int64         \n",
      " 73  number_of_reviews_l30d                        482 non-null    int64         \n",
      " 74  first_review                                  482 non-null    object        \n",
      " 75  last_review_y                                 482 non-null    object        \n",
      " 76  review_scores_rating                          482 non-null    float64       \n",
      " 77  review_scores_accuracy                        446 non-null    float64       \n",
      " 78  review_scores_cleanliness                     446 non-null    float64       \n",
      " 79  review_scores_checkin                         446 non-null    float64       \n",
      " 80  review_scores_communication                   446 non-null    float64       \n",
      " 81  review_scores_location                        446 non-null    float64       \n",
      " 82  review_scores_value                           446 non-null    float64       \n",
      " 83  license                                       258 non-null    object        \n",
      " 84  instant_bookable                              482 non-null    object        \n",
      " 85  calculated_host_listings_count_y              482 non-null    int64         \n",
      " 86  calculated_host_listings_count_entire_homes   482 non-null    int64         \n",
      " 87  calculated_host_listings_count_private_rooms  482 non-null    int64         \n",
      " 88  calculated_host_listings_count_shared_rooms   482 non-null    int64         \n",
      " 89  reviews_per_month_y                           482 non-null    float64       \n",
      " 90  aggregate_reviews                             446 non-null    float64       \n",
      " 91  Count_Use_x                                   446 non-null    float64       \n",
      " 92  Count_Use_y                                   446 non-null    float64       \n",
      " 93  review_change                                 446 non-null    float64       \n",
      "dtypes: datetime64[ns](1), float64(29), int64(24), object(40)\n",
      "memory usage: 357.7+ KB\n"
     ]
    }
   ],
   "source": [
    "listing_level_data.info()"
   ]
  },
  {
   "cell_type": "code",
   "execution_count": 169,
   "metadata": {},
   "outputs": [],
   "source": [
    "listing_level_data.dropna(inplace=True)"
   ]
  },
  {
   "cell_type": "code",
   "execution_count": 170,
   "metadata": {},
   "outputs": [],
   "source": [
    "review_level_data.dropna(inplace=True)"
   ]
  },
  {
   "cell_type": "markdown",
   "metadata": {},
   "source": [
    "## PART 2 - DATA EXPLORATION"
   ]
  },
  {
   "cell_type": "markdown",
   "metadata": {},
   "source": [
    "Data is explored for trends by year, season, neighborhood, availability, and price."
   ]
  },
  {
   "cell_type": "markdown",
   "metadata": {},
   "source": [
    "### Goal: Plotting total number of reviews by area \n",
    "\n",
    "### Takeaway: The majority of bookings are in the city of Los Angeles, rather than surrounding cities. Little difference in average location or value rating is observed based on whether the listing is in Los Angeles or in surrounding cities. "
   ]
  },
  {
   "cell_type": "code",
   "execution_count": 172,
   "metadata": {},
   "outputs": [
    {
     "ename": "IndexError",
     "evalue": "index 0 is out of bounds for axis 0 with size 0",
     "output_type": "error",
     "traceback": [
      "\u001b[0;31m---------------------------------------------------------------------------\u001b[0m",
      "\u001b[0;31mIndexError\u001b[0m                                Traceback (most recent call last)",
      "\u001b[0;32m<ipython-input-172-92a70c69ca77>\u001b[0m in \u001b[0;36m<module>\u001b[0;34m\u001b[0m\n\u001b[0;32m----> 1\u001b[0;31m \u001b[0mlisting_level_data\u001b[0m\u001b[0;34m.\u001b[0m\u001b[0maggregate_reviews\u001b[0m\u001b[0;34m.\u001b[0m\u001b[0mvalue_counts\u001b[0m\u001b[0;34m(\u001b[0m\u001b[0;34m)\u001b[0m\u001b[0;34m.\u001b[0m\u001b[0mplot\u001b[0m\u001b[0;34m(\u001b[0m\u001b[0mkind\u001b[0m \u001b[0;34m=\u001b[0m \u001b[0;34m'bar'\u001b[0m\u001b[0;34m)\u001b[0m\u001b[0;34m\u001b[0m\u001b[0;34m\u001b[0m\u001b[0m\n\u001b[0m\u001b[1;32m      2\u001b[0m \u001b[0;34m\u001b[0m\u001b[0m\n\u001b[1;32m      3\u001b[0m \u001b[0mplt\u001b[0m\u001b[0;34m.\u001b[0m\u001b[0mtitle\u001b[0m\u001b[0;34m(\u001b[0m\u001b[0;34m'Number Of Reviews per Aggregate Rating'\u001b[0m\u001b[0;34m,\u001b[0m \u001b[0msize\u001b[0m \u001b[0;34m=\u001b[0m \u001b[0;36m20\u001b[0m\u001b[0;34m)\u001b[0m\u001b[0;34m\u001b[0m\u001b[0;34m\u001b[0m\u001b[0m\n\u001b[1;32m      4\u001b[0m \u001b[0mplt\u001b[0m\u001b[0;34m.\u001b[0m\u001b[0mxlabel\u001b[0m\u001b[0;34m(\u001b[0m\u001b[0;34m'Rating'\u001b[0m\u001b[0;34m,\u001b[0m \u001b[0msize\u001b[0m \u001b[0;34m=\u001b[0m \u001b[0;36m15\u001b[0m\u001b[0;34m)\u001b[0m\u001b[0;34m\u001b[0m\u001b[0;34m\u001b[0m\u001b[0m\n\u001b[1;32m      5\u001b[0m \u001b[0mplt\u001b[0m\u001b[0;34m.\u001b[0m\u001b[0mylabel\u001b[0m\u001b[0;34m(\u001b[0m\u001b[0;34m'Number of Reviews'\u001b[0m\u001b[0;34m,\u001b[0m \u001b[0msize\u001b[0m \u001b[0;34m=\u001b[0m \u001b[0;36m15\u001b[0m\u001b[0;34m)\u001b[0m\u001b[0;34m\u001b[0m\u001b[0;34m\u001b[0m\u001b[0m\n",
      "\u001b[0;32m~/opt/anaconda3/lib/python3.8/site-packages/pandas/plotting/_core.py\u001b[0m in \u001b[0;36m__call__\u001b[0;34m(self, *args, **kwargs)\u001b[0m\n\u001b[1;32m    845\u001b[0m                     \u001b[0mdata\u001b[0m\u001b[0;34m.\u001b[0m\u001b[0mcolumns\u001b[0m \u001b[0;34m=\u001b[0m \u001b[0mlabel_name\u001b[0m\u001b[0;34m\u001b[0m\u001b[0;34m\u001b[0m\u001b[0m\n\u001b[1;32m    846\u001b[0m \u001b[0;34m\u001b[0m\u001b[0m\n\u001b[0;32m--> 847\u001b[0;31m         \u001b[0;32mreturn\u001b[0m \u001b[0mplot_backend\u001b[0m\u001b[0;34m.\u001b[0m\u001b[0mplot\u001b[0m\u001b[0;34m(\u001b[0m\u001b[0mdata\u001b[0m\u001b[0;34m,\u001b[0m \u001b[0mkind\u001b[0m\u001b[0;34m=\u001b[0m\u001b[0mkind\u001b[0m\u001b[0;34m,\u001b[0m \u001b[0;34m**\u001b[0m\u001b[0mkwargs\u001b[0m\u001b[0;34m)\u001b[0m\u001b[0;34m\u001b[0m\u001b[0;34m\u001b[0m\u001b[0m\n\u001b[0m\u001b[1;32m    848\u001b[0m \u001b[0;34m\u001b[0m\u001b[0m\n\u001b[1;32m    849\u001b[0m     \u001b[0m__call__\u001b[0m\u001b[0;34m.\u001b[0m\u001b[0m__doc__\u001b[0m \u001b[0;34m=\u001b[0m \u001b[0m__doc__\u001b[0m\u001b[0;34m\u001b[0m\u001b[0;34m\u001b[0m\u001b[0m\n",
      "\u001b[0;32m~/opt/anaconda3/lib/python3.8/site-packages/pandas/plotting/_matplotlib/__init__.py\u001b[0m in \u001b[0;36mplot\u001b[0;34m(data, kind, **kwargs)\u001b[0m\n\u001b[1;32m     59\u001b[0m             \u001b[0mkwargs\u001b[0m\u001b[0;34m[\u001b[0m\u001b[0;34m\"ax\"\u001b[0m\u001b[0;34m]\u001b[0m \u001b[0;34m=\u001b[0m \u001b[0mgetattr\u001b[0m\u001b[0;34m(\u001b[0m\u001b[0max\u001b[0m\u001b[0;34m,\u001b[0m \u001b[0;34m\"left_ax\"\u001b[0m\u001b[0;34m,\u001b[0m \u001b[0max\u001b[0m\u001b[0;34m)\u001b[0m\u001b[0;34m\u001b[0m\u001b[0;34m\u001b[0m\u001b[0m\n\u001b[1;32m     60\u001b[0m     \u001b[0mplot_obj\u001b[0m \u001b[0;34m=\u001b[0m \u001b[0mPLOT_CLASSES\u001b[0m\u001b[0;34m[\u001b[0m\u001b[0mkind\u001b[0m\u001b[0;34m]\u001b[0m\u001b[0;34m(\u001b[0m\u001b[0mdata\u001b[0m\u001b[0;34m,\u001b[0m \u001b[0;34m**\u001b[0m\u001b[0mkwargs\u001b[0m\u001b[0;34m)\u001b[0m\u001b[0;34m\u001b[0m\u001b[0;34m\u001b[0m\u001b[0m\n\u001b[0;32m---> 61\u001b[0;31m     \u001b[0mplot_obj\u001b[0m\u001b[0;34m.\u001b[0m\u001b[0mgenerate\u001b[0m\u001b[0;34m(\u001b[0m\u001b[0;34m)\u001b[0m\u001b[0;34m\u001b[0m\u001b[0;34m\u001b[0m\u001b[0m\n\u001b[0m\u001b[1;32m     62\u001b[0m     \u001b[0mplot_obj\u001b[0m\u001b[0;34m.\u001b[0m\u001b[0mdraw\u001b[0m\u001b[0;34m(\u001b[0m\u001b[0;34m)\u001b[0m\u001b[0;34m\u001b[0m\u001b[0;34m\u001b[0m\u001b[0m\n\u001b[1;32m     63\u001b[0m     \u001b[0;32mreturn\u001b[0m \u001b[0mplot_obj\u001b[0m\u001b[0;34m.\u001b[0m\u001b[0mresult\u001b[0m\u001b[0;34m\u001b[0m\u001b[0;34m\u001b[0m\u001b[0m\n",
      "\u001b[0;32m~/opt/anaconda3/lib/python3.8/site-packages/pandas/plotting/_matplotlib/core.py\u001b[0m in \u001b[0;36mgenerate\u001b[0;34m(self)\u001b[0m\n\u001b[1;32m    268\u001b[0m         \u001b[0;32mfor\u001b[0m \u001b[0max\u001b[0m \u001b[0;32min\u001b[0m \u001b[0mself\u001b[0m\u001b[0;34m.\u001b[0m\u001b[0maxes\u001b[0m\u001b[0;34m:\u001b[0m\u001b[0;34m\u001b[0m\u001b[0;34m\u001b[0m\u001b[0m\n\u001b[1;32m    269\u001b[0m             \u001b[0mself\u001b[0m\u001b[0;34m.\u001b[0m\u001b[0m_post_plot_logic_common\u001b[0m\u001b[0;34m(\u001b[0m\u001b[0max\u001b[0m\u001b[0;34m,\u001b[0m \u001b[0mself\u001b[0m\u001b[0;34m.\u001b[0m\u001b[0mdata\u001b[0m\u001b[0;34m)\u001b[0m\u001b[0;34m\u001b[0m\u001b[0;34m\u001b[0m\u001b[0m\n\u001b[0;32m--> 270\u001b[0;31m             \u001b[0mself\u001b[0m\u001b[0;34m.\u001b[0m\u001b[0m_post_plot_logic\u001b[0m\u001b[0;34m(\u001b[0m\u001b[0max\u001b[0m\u001b[0;34m,\u001b[0m \u001b[0mself\u001b[0m\u001b[0;34m.\u001b[0m\u001b[0mdata\u001b[0m\u001b[0;34m)\u001b[0m\u001b[0;34m\u001b[0m\u001b[0;34m\u001b[0m\u001b[0m\n\u001b[0m\u001b[1;32m    271\u001b[0m \u001b[0;34m\u001b[0m\u001b[0m\n\u001b[1;32m    272\u001b[0m     \u001b[0;32mdef\u001b[0m \u001b[0m_args_adjust\u001b[0m\u001b[0;34m(\u001b[0m\u001b[0mself\u001b[0m\u001b[0;34m)\u001b[0m\u001b[0;34m:\u001b[0m\u001b[0;34m\u001b[0m\u001b[0;34m\u001b[0m\u001b[0m\n",
      "\u001b[0;32m~/opt/anaconda3/lib/python3.8/site-packages/pandas/plotting/_matplotlib/core.py\u001b[0m in \u001b[0;36m_post_plot_logic\u001b[0;34m(self, ax, data)\u001b[0m\n\u001b[1;32m   1414\u001b[0m         \u001b[0mname\u001b[0m \u001b[0;34m=\u001b[0m \u001b[0mself\u001b[0m\u001b[0;34m.\u001b[0m\u001b[0m_get_index_name\u001b[0m\u001b[0;34m(\u001b[0m\u001b[0;34m)\u001b[0m\u001b[0;34m\u001b[0m\u001b[0;34m\u001b[0m\u001b[0m\n\u001b[1;32m   1415\u001b[0m \u001b[0;34m\u001b[0m\u001b[0m\n\u001b[0;32m-> 1416\u001b[0;31m         \u001b[0ms_edge\u001b[0m \u001b[0;34m=\u001b[0m \u001b[0mself\u001b[0m\u001b[0;34m.\u001b[0m\u001b[0max_pos\u001b[0m\u001b[0;34m[\u001b[0m\u001b[0;36m0\u001b[0m\u001b[0;34m]\u001b[0m \u001b[0;34m-\u001b[0m \u001b[0;36m0.25\u001b[0m \u001b[0;34m+\u001b[0m \u001b[0mself\u001b[0m\u001b[0;34m.\u001b[0m\u001b[0mlim_offset\u001b[0m\u001b[0;34m\u001b[0m\u001b[0;34m\u001b[0m\u001b[0m\n\u001b[0m\u001b[1;32m   1417\u001b[0m         \u001b[0me_edge\u001b[0m \u001b[0;34m=\u001b[0m \u001b[0mself\u001b[0m\u001b[0;34m.\u001b[0m\u001b[0max_pos\u001b[0m\u001b[0;34m[\u001b[0m\u001b[0;34m-\u001b[0m\u001b[0;36m1\u001b[0m\u001b[0;34m]\u001b[0m \u001b[0;34m+\u001b[0m \u001b[0;36m0.25\u001b[0m \u001b[0;34m+\u001b[0m \u001b[0mself\u001b[0m\u001b[0;34m.\u001b[0m\u001b[0mbar_width\u001b[0m \u001b[0;34m+\u001b[0m \u001b[0mself\u001b[0m\u001b[0;34m.\u001b[0m\u001b[0mlim_offset\u001b[0m\u001b[0;34m\u001b[0m\u001b[0;34m\u001b[0m\u001b[0m\n\u001b[1;32m   1418\u001b[0m \u001b[0;34m\u001b[0m\u001b[0m\n",
      "\u001b[0;31mIndexError\u001b[0m: index 0 is out of bounds for axis 0 with size 0"
     ]
    },
    {
     "data": {
      "image/png": "[encoded data removed]",
      "text/plain": [
       "<Figure size 432x288 with 1 Axes>"
      ]
     },
     "metadata": {
      "needs_background": "light"
     },
     "output_type": "display_data"
    }
   ],
   "source": [
    "listing_level_data.aggregate_reviews.value_counts().plot(kind = 'bar')\n",
    "\n",
    "plt.title('Number Of Reviews per Aggregate Rating', size = 20)\n",
    "plt.xlabel('Rating', size = 15)\n",
    "plt.ylabel('Number of Reviews', size = 15)\n",
    "plt.xticks(rotation=45)\n",
    "\n",
    "plt.show()"
   ]
  },
  {
   "cell_type": "code",
   "execution_count": 80,
   "metadata": {},
   "outputs": [
    {
     "data": {
      "image/png": "[encoded data removed]",
      "text/plain": [
       "<Figure size 432x288 with 1 Axes>"
      ]
     },
     "metadata": {
      "needs_background": "light"
     },
     "output_type": "display_data"
    }
   ],
   "source": [
    "listing_level_data.neighbourhood_group.value_counts().plot(kind = 'bar')\n",
    "\n",
    "plt.title('Number Of Reviews per Neighborhood Group', size = 20)\n",
    "plt.xlabel('Neighborhood Group', size = 15)\n",
    "plt.ylabel('Number of Reviews', size = 15)\n",
    "plt.xticks(rotation=45)\n",
    "\n",
    "plt.show()"
   ]
  },
  {
   "cell_type": "code",
   "execution_count": 81,
   "metadata": {},
   "outputs": [
    {
     "data": {
      "image/png": "[encoded data removed]",
      "text/plain": [
       "<Figure size 432x288 with 1 Axes>"
      ]
     },
     "metadata": {
      "needs_background": "light"
     },
     "output_type": "display_data"
    },
    {
     "data": {
      "text/plain": [
       "neighbourhood_group\n",
       "City of Los Angeles     9.920833\n",
       "Other Cities            9.947712\n",
       "Unincorporated Areas    9.882353\n",
       "Name: review_scores_location, dtype: float64"
      ]
     },
     "execution_count": 81,
     "metadata": {},
     "output_type": "execute_result"
    }
   ],
   "source": [
    "listing_level_data.groupby('neighbourhood_group').review_scores_location.mean().plot(kind = 'bar')\n",
    "\n",
    "plt.title('Average Location Rating per Neighborhood Group', size = 20)\n",
    "plt.xlabel('Neighborhood Group', size = 15)\n",
    "plt.ylabel('Average Location Rating', size = 15)\n",
    "plt.xticks(rotation=45)\n",
    "\n",
    "plt.show()\n",
    "\n",
    "listing_level_data.groupby('neighbourhood_group').review_scores_location.mean()"
   ]
  },
  {
   "cell_type": "code",
   "execution_count": 82,
   "metadata": {},
   "outputs": [
    {
     "data": {
      "image/png": "[encoded data removed]",
      "text/plain": [
       "<Figure size 432x288 with 1 Axes>"
      ]
     },
     "metadata": {
      "needs_background": "light"
     },
     "output_type": "display_data"
    },
    {
     "data": {
      "text/plain": [
       "neighbourhood_group\n",
       "City of Los Angeles     9.920833\n",
       "Other Cities            9.947712\n",
       "Unincorporated Areas    9.882353\n",
       "Name: review_scores_location, dtype: float64"
      ]
     },
     "execution_count": 82,
     "metadata": {},
     "output_type": "execute_result"
    }
   ],
   "source": [
    "listing_level_data.groupby('neighbourhood_group').review_scores_value.mean().plot(kind = 'bar')\n",
    "\n",
    "plt.title('Average Value Rating per Neighborhood Group', size = 20)\n",
    "plt.xlabel('Neighborhood Group', size = 15)\n",
    "plt.ylabel('Average Value Rating', size = 15)\n",
    "plt.xticks(rotation=45)\n",
    "\n",
    "plt.show()\n",
    "\n",
    "listing_level_data.groupby('neighbourhood_group').review_scores_location.mean()"
   ]
  },
  {
   "cell_type": "markdown",
   "metadata": {},
   "source": [
    "### Goal: plotting reviews by month to assess for seasonality in 2019\n",
    "\n",
    "### Takeaway: There is some seasonality in 2019, with fewer bookings in the winter months"
   ]
  },
  {
   "cell_type": "code",
   "execution_count": 83,
   "metadata": {},
   "outputs": [
    {
     "data": {
      "image/png": "[encoded data removed]",
      "text/plain": [
       "<Figure size 432x288 with 1 Axes>"
      ]
     },
     "metadata": {
      "needs_background": "light"
     },
     "output_type": "display_data"
    }
   ],
   "source": [
    "review_level_data[review_level_data['year']==2019].month.value_counts().plot(kind = 'bar')\n",
    "\n",
    "plt.title('Number Of Reviews per Month in 2019', size = 20)\n",
    "plt.xlabel('Month', size = 15)\n",
    "plt.ylabel('Number of Reviews', size = 15)\n",
    "plt.xticks(rotation=45)\n",
    "\n",
    "plt.show()"
   ]
  },
  {
   "cell_type": "markdown",
   "metadata": {},
   "source": [
    "### Goal: plotting reviews by month to assess for seasonality in 2020\n",
    "\n",
    "### Takeaway: In 2020, earlier months of the year pre COVID have the most bookings. This represents a change from 2019."
   ]
  },
  {
   "cell_type": "code",
   "execution_count": 84,
   "metadata": {},
   "outputs": [
    {
     "data": {
      "image/png": "[encoded data removed]",
      "text/plain": [
       "<Figure size 432x288 with 1 Axes>"
      ]
     },
     "metadata": {
      "needs_background": "light"
     },
     "output_type": "display_data"
    }
   ],
   "source": [
    "review_level_data[review_level_data['year']==2020].month.value_counts().plot(kind = 'bar')\n",
    "\n",
    "plt.title('Number Of Reviews per Month in 2020', size = 20)\n",
    "plt.xlabel('Month', size = 15)\n",
    "plt.ylabel('Number of Reviews', size = 15)\n",
    "plt.xticks(rotation=45)\n",
    "\n",
    "plt.show()"
   ]
  },
  {
   "cell_type": "markdown",
   "metadata": {},
   "source": [
    "### Goal: Plot reviews by date to assess for trend over time\n",
    "\n",
    "### Takeaway: Data shows a large drop off in reviews starting in March 2020 (beginning of COVID), followed by a slight climb throughout the year. Overall, fewer than half the number of reviews seen in 2019 were observed in 2020, even with most of the 2020 calendar year complete. "
   ]
  },
  {
   "cell_type": "code",
   "execution_count": 85,
   "metadata": {},
   "outputs": [
    {
     "data": {
      "image/png": "[encoded data removed]",
      "text/plain": [
       "<Figure size 432x288 with 1 Axes>"
      ]
     },
     "metadata": {
      "needs_background": "light"
     },
     "output_type": "display_data"
    }
   ],
   "source": [
    "review_level_data.date.value_counts().plot(kind = 'line')\n",
    "\n",
    "plt.title('Number Of Reviews per Date', size = 20)\n",
    "plt.xlabel('Date', size = 15)\n",
    "plt.ylabel('Number of Reviews', size = 15)\n",
    "plt.xticks(rotation=45)\n",
    "\n",
    "plt.show()"
   ]
  },
  {
   "cell_type": "code",
   "execution_count": 86,
   "metadata": {},
   "outputs": [
    {
     "data": {
      "image/png": "[encoded data removed]",
      "text/plain": [
       "<Figure size 432x288 with 1 Axes>"
      ]
     },
     "metadata": {
      "needs_background": "light"
     },
     "output_type": "display_data"
    }
   ],
   "source": [
    "review_level_data.year.value_counts().plot(kind = 'bar')\n",
    "\n",
    "plt.title('Number Of Reviews per Year', size = 20)\n",
    "plt.xlabel('Year', size = 15)\n",
    "plt.ylabel('Number of Reviews', size = 15)\n",
    "plt.xticks(rotation=45)\n",
    "\n",
    "plt.show()"
   ]
  },
  {
   "cell_type": "markdown",
   "metadata": {},
   "source": [
    "### Goal: View distribution of the change in number of reviews per listing post covid\n",
    "\n",
    "### Takeaway: Almost all listings have had a decrease in reviews post COVID. Mean net change in number of reviews post COVID is -64. The top quartile of listings with the lowest decrease in reviews post COVID saw a decrease of 48 reviews or fewer after March 2020. "
   ]
  },
  {
   "cell_type": "code",
   "execution_count": 87,
   "metadata": {},
   "outputs": [
    {
     "data": {
      "image/png": "[encoded data removed]",
      "text/plain": [
       "<Figure size 432x288 with 1 Axes>"
      ]
     },
     "metadata": {
      "needs_background": "light"
     },
     "output_type": "display_data"
    }
   ],
   "source": [
    "listing_level_data.review_change.hist()\n",
    "\n",
    "plt.title('Change in Reviews Post COVID', size = 20)\n",
    "plt.xlabel('Chanage in Reviews', size = 15)\n",
    "plt.ylabel('Frequency', size = 15)\n",
    "plt.xticks(rotation=45)\n",
    "\n",
    "plt.show()"
   ]
  },
  {
   "cell_type": "code",
   "execution_count": 88,
   "metadata": {},
   "outputs": [
    {
     "data": {
      "text/plain": [
       "count    410.000000\n",
       "mean     -73.321951\n",
       "std       36.876703\n",
       "min     -541.000000\n",
       "25%      -86.750000\n",
       "50%      -68.000000\n",
       "75%      -51.250000\n",
       "max      -15.000000\n",
       "Name: review_change, dtype: float64"
      ]
     },
     "execution_count": 88,
     "metadata": {},
     "output_type": "execute_result"
    }
   ],
   "source": [
    "listing_level_data.review_change.describe()"
   ]
  },
  {
   "cell_type": "code",
   "execution_count": 89,
   "metadata": {},
   "outputs": [
    {
     "data": {
      "text/plain": [
       "review_change_quartile\n",
       "Bottom Quartile   -87.0\n",
       "Third Quartile    -68.0\n",
       "Second Quartile   -51.0\n",
       "Top Quartile      -15.0\n",
       "Name: review_change, dtype: float64"
      ]
     },
     "execution_count": 89,
     "metadata": {},
     "output_type": "execute_result"
    }
   ],
   "source": [
    "bins = [-541, -87, -68, -51, np.inf]\n",
    "names = ['Bottom Quartile', 'Third Quartile', 'Second Quartile', 'Top Quartile']\n",
    "\n",
    "listing_level_data['review_change_quartile'] = pd.cut(listing_level_data['review_change'], bins, labels=names)\n",
    "\n",
    "listing_level_data.groupby('review_change_quartile').review_change.max()"
   ]
  },
  {
   "cell_type": "code",
   "execution_count": 90,
   "metadata": {},
   "outputs": [],
   "source": [
    "listing_level_data = listing_level_data[listing_level_data['Count_Use_x']>50]"
   ]
  },
  {
   "cell_type": "code",
   "execution_count": 91,
   "metadata": {},
   "outputs": [
    {
     "data": {
      "text/html": [
       "<div>\n",
       "<style scoped>\n",
       "    .dataframe tbody tr th:only-of-type {\n",
       "        vertical-align: middle;\n",
       "    }\n",
       "\n",
       "    .dataframe tbody tr th {\n",
       "        vertical-align: top;\n",
       "    }\n",
       "\n",
       "    .dataframe thead th {\n",
       "        text-align: right;\n",
       "    }\n",
       "</style>\n",
       "<table border=\"1\" class=\"dataframe\">\n",
       "  <thead>\n",
       "    <tr style=\"text-align: right;\">\n",
       "      <th></th>\n",
       "      <th>listing_id</th>\n",
       "      <th>name</th>\n",
       "      <th>host_id</th>\n",
       "      <th>host_name</th>\n",
       "      <th>neighbourhood_group</th>\n",
       "      <th>neighbourhood</th>\n",
       "      <th>latitude</th>\n",
       "      <th>longitude</th>\n",
       "      <th>room_type</th>\n",
       "      <th>price</th>\n",
       "      <th>...</th>\n",
       "      <th>instant_bookable</th>\n",
       "      <th>calculated_host_listings_count_y</th>\n",
       "      <th>calculated_host_listings_count_entire_homes</th>\n",
       "      <th>calculated_host_listings_count_private_rooms</th>\n",
       "      <th>calculated_host_listings_count_shared_rooms</th>\n",
       "      <th>aggregate_reviews</th>\n",
       "      <th>Count_Use_x</th>\n",
       "      <th>Count_Use_y</th>\n",
       "      <th>review_change</th>\n",
       "      <th>review_change_quartile</th>\n",
       "    </tr>\n",
       "  </thead>\n",
       "  <tbody>\n",
       "    <tr>\n",
       "      <th>2</th>\n",
       "      <td>20585</td>\n",
       "      <td>Private Studio, 6 Doors to Beach</td>\n",
       "      <td>77857</td>\n",
       "      <td>Barbara</td>\n",
       "      <td>City of Los Angeles</td>\n",
       "      <td>Venice</td>\n",
       "      <td>33.98012</td>\n",
       "      <td>-118.46490</td>\n",
       "      <td>Entire home/apt</td>\n",
       "      <td>124</td>\n",
       "      <td>...</td>\n",
       "      <td>f</td>\n",
       "      <td>1</td>\n",
       "      <td>1</td>\n",
       "      <td>0</td>\n",
       "      <td>0</td>\n",
       "      <td>30.0</td>\n",
       "      <td>66.0</td>\n",
       "      <td>7.0</td>\n",
       "      <td>-59.0</td>\n",
       "      <td>Second Quartile</td>\n",
       "    </tr>\n",
       "    <tr>\n",
       "      <th>8</th>\n",
       "      <td>54829</td>\n",
       "      <td>Beautiful Venice Beach Home Oasis</td>\n",
       "      <td>257925</td>\n",
       "      <td>Yvonne</td>\n",
       "      <td>City of Los Angeles</td>\n",
       "      <td>Venice</td>\n",
       "      <td>34.00061</td>\n",
       "      <td>-118.46353</td>\n",
       "      <td>Entire home/apt</td>\n",
       "      <td>125</td>\n",
       "      <td>...</td>\n",
       "      <td>t</td>\n",
       "      <td>1</td>\n",
       "      <td>1</td>\n",
       "      <td>0</td>\n",
       "      <td>0</td>\n",
       "      <td>30.0</td>\n",
       "      <td>106.0</td>\n",
       "      <td>14.0</td>\n",
       "      <td>-92.0</td>\n",
       "      <td>Bottom Quartile</td>\n",
       "    </tr>\n",
       "    <tr>\n",
       "      <th>9</th>\n",
       "      <td>69838</td>\n",
       "      <td>L.A. Lifestyle--like you live here</td>\n",
       "      <td>351521</td>\n",
       "      <td>Sterling</td>\n",
       "      <td>City of Los Angeles</td>\n",
       "      <td>Mid-City</td>\n",
       "      <td>34.03853</td>\n",
       "      <td>-118.33628</td>\n",
       "      <td>Private room</td>\n",
       "      <td>89</td>\n",
       "      <td>...</td>\n",
       "      <td>f</td>\n",
       "      <td>1</td>\n",
       "      <td>0</td>\n",
       "      <td>1</td>\n",
       "      <td>0</td>\n",
       "      <td>30.0</td>\n",
       "      <td>79.0</td>\n",
       "      <td>11.0</td>\n",
       "      <td>-68.0</td>\n",
       "      <td>Third Quartile</td>\n",
       "    </tr>\n",
       "    <tr>\n",
       "      <th>10</th>\n",
       "      <td>79832</td>\n",
       "      <td>Guest Quarters @ the Hollywood Sign</td>\n",
       "      <td>28569</td>\n",
       "      <td>Robert</td>\n",
       "      <td>City of Los Angeles</td>\n",
       "      <td>Hollywood Hills</td>\n",
       "      <td>34.12920</td>\n",
       "      <td>-118.31905</td>\n",
       "      <td>Entire home/apt</td>\n",
       "      <td>110</td>\n",
       "      <td>...</td>\n",
       "      <td>f</td>\n",
       "      <td>1</td>\n",
       "      <td>1</td>\n",
       "      <td>0</td>\n",
       "      <td>0</td>\n",
       "      <td>30.0</td>\n",
       "      <td>54.0</td>\n",
       "      <td>5.0</td>\n",
       "      <td>-49.0</td>\n",
       "      <td>Top Quartile</td>\n",
       "    </tr>\n",
       "    <tr>\n",
       "      <th>12</th>\n",
       "      <td>107970</td>\n",
       "      <td>2 Room Poolside Guesthouse +bikes</td>\n",
       "      <td>552845</td>\n",
       "      <td>Ronan</td>\n",
       "      <td>Other Cities</td>\n",
       "      <td>Long Beach</td>\n",
       "      <td>33.77435</td>\n",
       "      <td>-118.12275</td>\n",
       "      <td>Entire home/apt</td>\n",
       "      <td>45</td>\n",
       "      <td>...</td>\n",
       "      <td>f</td>\n",
       "      <td>1</td>\n",
       "      <td>1</td>\n",
       "      <td>0</td>\n",
       "      <td>0</td>\n",
       "      <td>28.0</td>\n",
       "      <td>155.0</td>\n",
       "      <td>53.0</td>\n",
       "      <td>-102.0</td>\n",
       "      <td>Bottom Quartile</td>\n",
       "    </tr>\n",
       "  </tbody>\n",
       "</table>\n",
       "<p>5 rows × 31 columns</p>\n",
       "</div>"
      ],
      "text/plain": [
       "    listing_id                                 name  host_id host_name  \\\n",
       "2        20585     Private Studio, 6 Doors to Beach    77857   Barbara   \n",
       "8        54829    Beautiful Venice Beach Home Oasis   257925    Yvonne   \n",
       "9        69838   L.A. Lifestyle--like you live here   351521  Sterling   \n",
       "10       79832  Guest Quarters @ the Hollywood Sign    28569    Robert   \n",
       "12      107970    2 Room Poolside Guesthouse +bikes   552845     Ronan   \n",
       "\n",
       "    neighbourhood_group    neighbourhood  latitude  longitude  \\\n",
       "2   City of Los Angeles           Venice  33.98012 -118.46490   \n",
       "8   City of Los Angeles           Venice  34.00061 -118.46353   \n",
       "9   City of Los Angeles         Mid-City  34.03853 -118.33628   \n",
       "10  City of Los Angeles  Hollywood Hills  34.12920 -118.31905   \n",
       "12         Other Cities       Long Beach  33.77435 -118.12275   \n",
       "\n",
       "          room_type  price  ...  instant_bookable  \\\n",
       "2   Entire home/apt    124  ...                 f   \n",
       "8   Entire home/apt    125  ...                 t   \n",
       "9      Private room     89  ...                 f   \n",
       "10  Entire home/apt    110  ...                 f   \n",
       "12  Entire home/apt     45  ...                 f   \n",
       "\n",
       "    calculated_host_listings_count_y  \\\n",
       "2                                  1   \n",
       "8                                  1   \n",
       "9                                  1   \n",
       "10                                 1   \n",
       "12                                 1   \n",
       "\n",
       "   calculated_host_listings_count_entire_homes  \\\n",
       "2                                            1   \n",
       "8                                            1   \n",
       "9                                            0   \n",
       "10                                           1   \n",
       "12                                           1   \n",
       "\n",
       "    calculated_host_listings_count_private_rooms  \\\n",
       "2                                              0   \n",
       "8                                              0   \n",
       "9                                              1   \n",
       "10                                             0   \n",
       "12                                             0   \n",
       "\n",
       "    calculated_host_listings_count_shared_rooms  aggregate_reviews  \\\n",
       "2                                             0               30.0   \n",
       "8                                             0               30.0   \n",
       "9                                             0               30.0   \n",
       "10                                            0               30.0   \n",
       "12                                            0               28.0   \n",
       "\n",
       "    Count_Use_x Count_Use_y  review_change  review_change_quartile  \n",
       "2          66.0         7.0          -59.0         Second Quartile  \n",
       "8         106.0        14.0          -92.0         Bottom Quartile  \n",
       "9          79.0        11.0          -68.0          Third Quartile  \n",
       "10         54.0         5.0          -49.0            Top Quartile  \n",
       "12        155.0        53.0         -102.0         Bottom Quartile  \n",
       "\n",
       "[5 rows x 31 columns]"
      ]
     },
     "execution_count": 91,
     "metadata": {},
     "output_type": "execute_result"
    }
   ],
   "source": [
    "listing_level_data.head()"
   ]
  },
  {
   "cell_type": "code",
   "execution_count": 92,
   "metadata": {},
   "outputs": [
    {
     "data": {
      "text/plain": [
       "host_id    Count_Use_x\n",
       "28569      54.0           1.0\n",
       "61692      93.0           1.0\n",
       "77857      66.0           1.0\n",
       "103790     76.0           1.0\n",
       "120950     84.0           1.0\n",
       "                         ... \n",
       "198927270  128.0          1.0\n",
       "207839860  170.0          1.0\n",
       "212312556  74.0           1.0\n",
       "248540707  209.0          1.0\n",
       "356854066  86.0           1.0\n",
       "Name: Count_Use_x, Length: 354, dtype: float64"
      ]
     },
     "execution_count": 92,
     "metadata": {},
     "output_type": "execute_result"
    }
   ],
   "source": [
    "listing_level_data.groupby('host_id').Count_Use_x.value_counts(200)"
   ]
  },
  {
   "cell_type": "markdown",
   "metadata": {},
   "source": [
    "## PART 3 - DATA ANALYSIS"
   ]
  },
  {
   "cell_type": "markdown",
   "metadata": {},
   "source": [
    "Regression analysis is first run on listing level data to create a predictive model and to evaluate top factors associated with better review ratings.\n",
    "\n",
    "Review level comment text is then vectorized and regression analysis is run to determine the association between key words from review comments and review ratings."
   ]
  },
  {
   "cell_type": "markdown",
   "metadata": {},
   "source": [
    "### Goal: Run regression analysis to determine factors predicting review ratings\n",
    "\n",
    "### Takeaway: Price is the most relevant feature in predicting review ratings, followed by the number of days open per year"
   ]
  },
  {
   "cell_type": "code",
   "execution_count": 97,
   "metadata": {},
   "outputs": [
    {
     "name": "stderr",
     "output_type": "stream",
     "text": [
      "/Users/Kim/opt/anaconda3/lib/python3.8/site-packages/sklearn/linear_model/_logistic.py:762: ConvergenceWarning: lbfgs failed to converge (status=1):\n",
      "STOP: TOTAL NO. of ITERATIONS REACHED LIMIT.\n",
      "\n",
      "Increase the number of iterations (max_iter) or scale the data as shown in:\n",
      "    https://scikit-learn.org/stable/modules/preprocessing.html\n",
      "Please also refer to the documentation for alternative solver options:\n",
      "    https://scikit-learn.org/stable/modules/linear_model.html#logistic-regression\n",
      "  n_iter_i = _check_optimize_result(\n"
     ]
    },
    {
     "data": {
      "text/plain": [
       "LogisticRegression()"
      ]
     },
     "execution_count": 97,
     "metadata": {},
     "output_type": "execute_result"
    }
   ],
   "source": [
    "from sklearn.linear_model import LogisticRegression\n",
    "from sklearn import metrics\n",
    "from sklearn.model_selection import train_test_split\n",
    "\n",
    "all_listings = listing_level_data.dropna()\n",
    "\n",
    "cols = ['price', 'neighbourhood', 'room_type', 'minimum_nights', 'availability_365']\n",
    "\n",
    "X = all_listings[cols]\n",
    "y = all_listings.aggregate_reviews\n",
    "\n",
    "X = pd.get_dummies(X)\n",
    "\n",
    "# Train Test Split\n",
    "X_train, X_test, y_train, y_test = train_test_split(X, y, test_size=0.2)\n",
    "\n",
    "# Accuracy Score\n",
    "lr = LogisticRegression()\n",
    "lr.fit(X_train, y_train)"
   ]
  },
  {
   "cell_type": "code",
   "execution_count": 98,
   "metadata": {},
   "outputs": [
    {
     "data": {
      "text/plain": [
       "0.7588652482269503"
      ]
     },
     "execution_count": 98,
     "metadata": {},
     "output_type": "execute_result"
    }
   ],
   "source": [
    "predictions = lr.predict(X_train)\n",
    "metrics.accuracy_score(predictions, y_train)"
   ]
  },
  {
   "cell_type": "code",
   "execution_count": 99,
   "metadata": {},
   "outputs": [
    {
     "name": "stdout",
     "output_type": "stream",
     "text": [
      "Model Error: 0.7252124645892352\n",
      "Benchmark: 0.5811137237278206\n"
     ]
    }
   ],
   "source": [
    "print(f'Model Error: {metrics.mean_squared_error(lr.predict(X), y)}')\n",
    "print(f'Benchmark: {metrics.mean_squared_error([y.mean() for i in range(len(y))], y)}')"
   ]
  },
  {
   "cell_type": "code",
   "execution_count": 100,
   "metadata": {},
   "outputs": [
    {
     "data": {
      "text/plain": [
       "<matplotlib.axes._subplots.AxesSubplot at 0x13b092400>"
      ]
     },
     "execution_count": 100,
     "metadata": {},
     "output_type": "execute_result"
    },
    {
     "data": {
      "image/png": "[encoded data removed]",
      "text/plain": [
       "<Figure size 432x288 with 1 Axes>"
      ]
     },
     "metadata": {
      "needs_background": "light"
     },
     "output_type": "display_data"
    }
   ],
   "source": [
    "#Random Forest\n",
    "\n",
    "from sklearn.ensemble import RandomForestClassifier\n",
    "\n",
    "rf = RandomForestClassifier()\n",
    "\n",
    "rf.fit(X_train, y_train)\n",
    "\n",
    "X.columns\n",
    "rf.feature_importances_[:5]\n",
    "df = pd.DataFrame({'features': X.columns, 'importance': rf.feature_importances_})\\\n",
    "                    .sort_values('importance', ascending= False)\n",
    "sns.barplot(x = 'importance', y = 'features', data = df.head(10), orient='h')"
   ]
  },
  {
   "cell_type": "markdown",
   "metadata": {},
   "source": [
    "### Goal: Further evaluate the impact of price and available days on review ratings and see if these factors have an impact on review ratings\n",
    "\n",
    "### Takeaway: Data shows little change in price or days available from 2019 to 2020. Listings with a value score of 10 had slightly lower nightly prices than listings with a value score of less than 10. Listings that had overall higher review scores were typically open fewer days a year than those that had lower overall review scores. Listings that were available to book only one night tended to have lower review ratings."
   ]
  },
  {
   "cell_type": "code",
   "execution_count": 101,
   "metadata": {},
   "outputs": [
    {
     "data": {
      "image/png": "[encoded data removed]",
      "text/plain": [
       "<Figure size 360x360 with 1 Axes>"
      ]
     },
     "metadata": {
      "needs_background": "light"
     },
     "output_type": "display_data"
    }
   ],
   "source": [
    "sns.catplot(data = review_level_data,kind = 'box' \n",
    "            ,x ='year', y = 'price')\n",
    "plt.title('Prices by Year', size = 20)\n",
    "plt.xlabel('Year' , size = 15)\n",
    "plt.ylabel('Price', size = 15)\n",
    "plt.xticks(rotation=45)\n",
    "\n",
    "plt.show()"
   ]
  },
  {
   "cell_type": "code",
   "execution_count": 102,
   "metadata": {},
   "outputs": [
    {
     "data": {
      "image/png": "[encoded data removed]",
      "text/plain": [
       "<Figure size 360x360 with 1 Axes>"
      ]
     },
     "metadata": {
      "needs_background": "light"
     },
     "output_type": "display_data"
    }
   ],
   "source": [
    "sns.catplot(data = listing_level_data,kind = 'bar' \n",
    "            ,x ='review_scores_value', y = 'price')\n",
    "plt.title('Price by Value Ratings', size = 20)\n",
    "plt.xlabel('Value Rating' , size = 15)\n",
    "plt.ylabel('Price', size = 15)\n",
    "plt.xticks(rotation=45)\n",
    "\n",
    "plt.show()"
   ]
  },
  {
   "cell_type": "code",
   "execution_count": 103,
   "metadata": {},
   "outputs": [
    {
     "data": {
      "text/plain": [
       "Ttest_indResult(statistic=-1.5567685763775674, pvalue=0.12042404535239049)"
      ]
     },
     "execution_count": 103,
     "metadata": {},
     "output_type": "execute_result"
    }
   ],
   "source": [
    "from scipy.stats import ttest_ind\n",
    "\n",
    "ttest_ind(listing_level_data[listing_level_data['review_scores_value'] == 10].price,\n",
    "         listing_level_data[listing_level_data['review_scores_value'] <= 9].price)"
   ]
  },
  {
   "cell_type": "code",
   "execution_count": 104,
   "metadata": {},
   "outputs": [
    {
     "data": {
      "text/plain": [
       "review_scores_value\n",
       "8.0     116.000000\n",
       "9.0     117.898734\n",
       "10.0    108.591912\n",
       "Name: price, dtype: float64"
      ]
     },
     "execution_count": 104,
     "metadata": {},
     "output_type": "execute_result"
    }
   ],
   "source": [
    "listing_level_data.groupby('review_scores_value').price.mean()"
   ]
  },
  {
   "cell_type": "code",
   "execution_count": 105,
   "metadata": {},
   "outputs": [
    {
     "data": {
      "image/png": "[encoded data removed]",
      "text/plain": [
       "<Figure size 360x360 with 1 Axes>"
      ]
     },
     "metadata": {
      "needs_background": "light"
     },
     "output_type": "display_data"
    }
   ],
   "source": [
    "sns.catplot(data = review_level_data,kind = 'box' \n",
    "            ,x ='year', y = 'availability_365')\n",
    "plt.title('Days Available by Year', size = 20)\n",
    "plt.xlabel('Year' , size = 15)\n",
    "plt.ylabel('Days Available', size = 15)\n",
    "plt.xticks(rotation=45)\n",
    "\n",
    "plt.show()"
   ]
  },
  {
   "cell_type": "code",
   "execution_count": 106,
   "metadata": {},
   "outputs": [
    {
     "data": {
      "image/png": "[encoded data removed]",
      "text/plain": [
       "<Figure size 360x360 with 1 Axes>"
      ]
     },
     "metadata": {
      "needs_background": "light"
     },
     "output_type": "display_data"
    }
   ],
   "source": [
    "sns.catplot(data = listing_level_data,kind = 'box' \n",
    "            ,x ='aggregate_reviews', y = 'availability_365')\n",
    "plt.title('Days Available by Aggregate Review Ratings', size = 20)\n",
    "plt.xlabel('Aggregate Review Rating' , size = 15)\n",
    "plt.ylabel('Days Available', size = 15)\n",
    "plt.xticks(rotation=45)\n",
    "\n",
    "plt.show()"
   ]
  },
  {
   "cell_type": "code",
   "execution_count": 107,
   "metadata": {},
   "outputs": [
    {
     "data": {
      "text/plain": [
       "Ttest_indResult(statistic=-0.8233029747233523, pvalue=0.41089315201299137)"
      ]
     },
     "execution_count": 107,
     "metadata": {},
     "output_type": "execute_result"
    }
   ],
   "source": [
    "from scipy.stats import ttest_ind\n",
    "\n",
    "ttest_ind(listing_level_data[listing_level_data['aggregate_reviews'] == 30].availability_365,\n",
    "         listing_level_data[listing_level_data['aggregate_reviews'] <= 29].availability_365)"
   ]
  },
  {
   "cell_type": "code",
   "execution_count": 108,
   "metadata": {},
   "outputs": [
    {
     "data": {
      "text/plain": [
       "aggregate_reviews\n",
       "25.0    154.000000\n",
       "26.0    293.500000\n",
       "27.0    210.500000\n",
       "28.0    215.142857\n",
       "29.0    181.967213\n",
       "30.0    180.912548\n",
       "Name: availability_365, dtype: float64"
      ]
     },
     "execution_count": 108,
     "metadata": {},
     "output_type": "execute_result"
    }
   ],
   "source": [
    "listing_level_data.groupby('aggregate_reviews').availability_365.mean()"
   ]
  },
  {
   "cell_type": "code",
   "execution_count": 109,
   "metadata": {},
   "outputs": [
    {
     "data": {
      "image/png": "[encoded data removed]",
      "text/plain": [
       "<Figure size 360x360 with 1 Axes>"
      ]
     },
     "metadata": {
      "needs_background": "light"
     },
     "output_type": "display_data"
    }
   ],
   "source": [
    "sns.catplot(data = review_level_data,kind = 'box' \n",
    "            ,x ='year', y = 'minimum_nights')\n",
    "plt.title('Minimum Nights by Year', size = 20)\n",
    "plt.xlabel('Year' , size = 15)\n",
    "plt.ylabel('Minimum Nights', size = 15)\n",
    "plt.xticks(rotation=45)\n",
    "\n",
    "plt.show()"
   ]
  },
  {
   "cell_type": "code",
   "execution_count": 110,
   "metadata": {},
   "outputs": [
    {
     "data": {
      "image/png": "[encoded data removed]",
      "text/plain": [
       "<Figure size 360x360 with 1 Axes>"
      ]
     },
     "metadata": {
      "needs_background": "light"
     },
     "output_type": "display_data"
    }
   ],
   "source": [
    "sns.catplot(data = listing_level_data,kind = 'bar' \n",
    "            ,x ='aggregate_reviews', y = 'minimum_nights')\n",
    "plt.title('Minimum Nights by Aggregate Ratings', size = 20)\n",
    "plt.xlabel('Aggregate Rating' , size = 15)\n",
    "plt.ylabel('Minimum Nights', size = 15)\n",
    "plt.xticks(rotation=45)\n",
    "\n",
    "plt.show()"
   ]
  },
  {
   "cell_type": "code",
   "execution_count": 111,
   "metadata": {},
   "outputs": [
    {
     "data": {
      "text/plain": [
       "Ttest_indResult(statistic=-2.209356547438481, pvalue=0.027793222060247924)"
      ]
     },
     "execution_count": 111,
     "metadata": {},
     "output_type": "execute_result"
    }
   ],
   "source": [
    "from scipy.stats import ttest_ind\n",
    "\n",
    "ttest_ind(listing_level_data[listing_level_data['aggregate_reviews'] == 30].minimum_nights,\n",
    "         listing_level_data[listing_level_data['aggregate_reviews'] <= 29].minimum_nights)"
   ]
  },
  {
   "cell_type": "code",
   "execution_count": 112,
   "metadata": {},
   "outputs": [
    {
     "data": {
      "text/plain": [
       "aggregate_reviews\n",
       "25.0     1.000000\n",
       "26.0     1.000000\n",
       "27.0     1.500000\n",
       "28.0    12.619048\n",
       "29.0     7.836066\n",
       "30.0     5.532319\n",
       "Name: minimum_nights, dtype: float64"
      ]
     },
     "execution_count": 112,
     "metadata": {},
     "output_type": "execute_result"
    }
   ],
   "source": [
    "listing_level_data.groupby('aggregate_reviews').minimum_nights.mean()"
   ]
  },
  {
   "cell_type": "code",
   "execution_count": 113,
   "metadata": {},
   "outputs": [
    {
     "data": {
      "text/plain": [
       "Ttest_indResult(statistic=2.805427492920986, pvalue=0.00573536103410636)"
      ]
     },
     "execution_count": 113,
     "metadata": {},
     "output_type": "execute_result"
    }
   ],
   "source": [
    "from scipy.stats import ttest_ind\n",
    "\n",
    "ttest_ind(listing_level_data[listing_level_data['review_change_quartile'] == 'Top Quartile'].price,\n",
    "         listing_level_data[listing_level_data['review_change_quartile'] == 'Bottom Quartile'].price)"
   ]
  },
  {
   "cell_type": "code",
   "execution_count": 114,
   "metadata": {},
   "outputs": [
    {
     "data": {
      "image/png": "[encoded data removed]",
      "text/plain": [
       "<Figure size 360x360 with 1 Axes>"
      ]
     },
     "metadata": {
      "needs_background": "light"
     },
     "output_type": "display_data"
    }
   ],
   "source": [
    "sns.catplot(data = listing_level_data,kind = 'bar' \n",
    "            ,x ='review_change_quartile', y = 'price')\n",
    "plt.title('Price by Review Change Quartile', size = 20)\n",
    "plt.xlabel('Review Change Quartile' , size = 15)\n",
    "plt.ylabel('Price', size = 15)\n",
    "plt.xticks(rotation=45)\n",
    "\n",
    "plt.show()"
   ]
  },
  {
   "cell_type": "code",
   "execution_count": 115,
   "metadata": {},
   "outputs": [
    {
     "data": {
      "text/plain": [
       "Ttest_indResult(statistic=1.4981816084994612, pvalue=0.13632150874353238)"
      ]
     },
     "execution_count": 115,
     "metadata": {},
     "output_type": "execute_result"
    }
   ],
   "source": [
    "from scipy.stats import ttest_ind\n",
    "\n",
    "ttest_ind(listing_level_data[listing_level_data['review_change_quartile'] == 'Top Quartile'].minimum_nights,\n",
    "         listing_level_data[listing_level_data['review_change_quartile'] == 'Bottom Quartile'].minimum_nights)"
   ]
  },
  {
   "cell_type": "code",
   "execution_count": 116,
   "metadata": {},
   "outputs": [
    {
     "data": {
      "image/png": "[encoded data removed]",
      "text/plain": [
       "<Figure size 360x360 with 1 Axes>"
      ]
     },
     "metadata": {
      "needs_background": "light"
     },
     "output_type": "display_data"
    }
   ],
   "source": [
    "sns.catplot(data = listing_level_data,kind = 'bar' \n",
    "            ,x ='review_change_quartile', y = 'minimum_nights')\n",
    "plt.title('Minimum Nights by Review Change Quartile', size = 20)\n",
    "plt.xlabel('Review Change Quartile' , size = 15)\n",
    "plt.ylabel('Minimum Nights', size = 15)\n",
    "plt.xticks(rotation=45)\n",
    "\n",
    "plt.show()"
   ]
  },
  {
   "cell_type": "code",
   "execution_count": 117,
   "metadata": {},
   "outputs": [
    {
     "data": {
      "text/plain": [
       "Ttest_indResult(statistic=2.4131331181317073, pvalue=0.017100352302202814)"
      ]
     },
     "execution_count": 117,
     "metadata": {},
     "output_type": "execute_result"
    }
   ],
   "source": [
    "from scipy.stats import ttest_ind\n",
    "\n",
    "ttest_ind(listing_level_data[listing_level_data['review_change_quartile'] == 'Top Quartile'].availability_365,\n",
    "         listing_level_data[listing_level_data['review_change_quartile'] == 'Bottom Quartile'].availability_365)"
   ]
  },
  {
   "cell_type": "code",
   "execution_count": 118,
   "metadata": {},
   "outputs": [
    {
     "data": {
      "image/png": "[encoded data removed]",
      "text/plain": [
       "<Figure size 360x360 with 1 Axes>"
      ]
     },
     "metadata": {
      "needs_background": "light"
     },
     "output_type": "display_data"
    }
   ],
   "source": [
    "sns.catplot(data = listing_level_data,kind = 'bar' \n",
    "            ,x ='review_change_quartile', y = 'availability_365')\n",
    "plt.title('Availability 365 by Review Change Quartile', size = 20)\n",
    "plt.xlabel('Review Change Quartile' , size = 15)\n",
    "plt.ylabel('Availability 365', size = 15)\n",
    "plt.xticks(rotation=45)\n",
    "\n",
    "plt.show()"
   ]
  },
  {
   "cell_type": "code",
   "execution_count": 124,
   "metadata": {},
   "outputs": [
    {
     "name": "stderr",
     "output_type": "stream",
     "text": [
      "/Users/Kim/opt/anaconda3/lib/python3.8/site-packages/sklearn/linear_model/_logistic.py:762: ConvergenceWarning: lbfgs failed to converge (status=1):\n",
      "STOP: TOTAL NO. of ITERATIONS REACHED LIMIT.\n",
      "\n",
      "Increase the number of iterations (max_iter) or scale the data as shown in:\n",
      "    https://scikit-learn.org/stable/modules/preprocessing.html\n",
      "Please also refer to the documentation for alternative solver options:\n",
      "    https://scikit-learn.org/stable/modules/linear_model.html#logistic-regression\n",
      "  n_iter_i = _check_optimize_result(\n"
     ]
    },
    {
     "data": {
      "text/plain": [
       "LogisticRegression()"
      ]
     },
     "execution_count": 124,
     "metadata": {},
     "output_type": "execute_result"
    }
   ],
   "source": [
    "from sklearn.linear_model import LogisticRegression\n",
    "from sklearn import metrics\n",
    "from sklearn.model_selection import train_test_split\n",
    "\n",
    "all_listings = listing_level_data.dropna()\n",
    "\n",
    "cols = ['price', 'host_id', 'room_type', 'minimum_nights']\n",
    "\n",
    "X = all_listings[cols]\n",
    "y = all_listings.availability_365\n",
    "\n",
    "X = pd.get_dummies(X)\n",
    "\n",
    "# Train Test Split\n",
    "X_train, X_test, y_train, y_test = train_test_split(X, y, test_size=0.2)\n",
    "\n",
    "# Accuracy Score\n",
    "lr = LogisticRegression()\n",
    "lr.fit(X_train, y_train)"
   ]
  },
  {
   "cell_type": "code",
   "execution_count": 125,
   "metadata": {},
   "outputs": [
    {
     "data": {
      "text/plain": [
       "0.08156028368794327"
      ]
     },
     "execution_count": 125,
     "metadata": {},
     "output_type": "execute_result"
    }
   ],
   "source": [
    "predictions = lr.predict(X_train)\n",
    "metrics.accuracy_score(predictions, y_train)"
   ]
  },
  {
   "cell_type": "code",
   "execution_count": 126,
   "metadata": {},
   "outputs": [
    {
     "name": "stdout",
     "output_type": "stream",
     "text": [
      "Model Error: 50184.07365439094\n",
      "Benchmark: 16066.948856021636\n"
     ]
    }
   ],
   "source": [
    "print(f'Model Error: {metrics.mean_squared_error(lr.predict(X), y)}')\n",
    "print(f'Benchmark: {metrics.mean_squared_error([y.mean() for i in range(len(y))], y)}')"
   ]
  },
  {
   "cell_type": "code",
   "execution_count": 127,
   "metadata": {},
   "outputs": [
    {
     "data": {
      "text/plain": [
       "<matplotlib.axes._subplots.AxesSubplot at 0x142a32f40>"
      ]
     },
     "execution_count": 127,
     "metadata": {},
     "output_type": "execute_result"
    },
    {
     "data": {
      "image/png": "[encoded data removed]",
      "text/plain": [
       "<Figure size 432x288 with 1 Axes>"
      ]
     },
     "metadata": {
      "needs_background": "light"
     },
     "output_type": "display_data"
    }
   ],
   "source": [
    "#Random Forest\n",
    "\n",
    "from sklearn.ensemble import RandomForestClassifier\n",
    "\n",
    "rf = RandomForestClassifier()\n",
    "\n",
    "rf.fit(X_train, y_train)\n",
    "\n",
    "X.columns\n",
    "rf.feature_importances_[:5]\n",
    "df = pd.DataFrame({'features': X.columns, 'importance': rf.feature_importances_})\\\n",
    "                    .sort_values('importance', ascending= False)\n",
    "sns.barplot(x = 'importance', y = 'features', data = df.head(10), orient='h')"
   ]
  },
  {
   "cell_type": "code",
   "execution_count": 130,
   "metadata": {},
   "outputs": [
    {
     "data": {
      "text/plain": [
       "host_id\n",
       "28569        292\n",
       "61692         73\n",
       "77857         41\n",
       "103790       350\n",
       "120950       296\n",
       "            ... \n",
       "198927270     59\n",
       "207839860    354\n",
       "212312556    276\n",
       "248540707     78\n",
       "356854066     29\n",
       "Name: availability_365, Length: 354, dtype: int64"
      ]
     },
     "execution_count": 130,
     "metadata": {},
     "output_type": "execute_result"
    }
   ],
   "source": [
    "listing_level_data.groupby('host_id').availability_365.mean()"
   ]
  },
  {
   "cell_type": "code",
   "execution_count": 131,
   "metadata": {},
   "outputs": [
    {
     "data": {
      "text/plain": [
       "availability_365  host_id  \n",
       "0                 130598       1\n",
       "                  205467       1\n",
       "                  410450       1\n",
       "                  552845       1\n",
       "                  2258135      1\n",
       "                              ..\n",
       "365               6015007      1\n",
       "                  12460464     1\n",
       "                  18695280     1\n",
       "                  66279133     1\n",
       "                  104613882    1\n",
       "Name: host_id, Length: 354, dtype: int64"
      ]
     },
     "execution_count": 131,
     "metadata": {},
     "output_type": "execute_result"
    }
   ],
   "source": [
    "listing_level_data.groupby('availability_365').host_id.value_counts()"
   ]
  },
  {
   "cell_type": "markdown",
   "metadata": {},
   "source": [
    "### Goal: Determine which words from comment review text are the best predictors of review ratings\n",
    "\n",
    "### Takeway: Cleaniness, location, space, and parking were important features from review comment text in predicting review ratings"
   ]
  },
  {
   "cell_type": "code",
   "execution_count": 132,
   "metadata": {},
   "outputs": [
    {
     "name": "stderr",
     "output_type": "stream",
     "text": [
      "[nltk_data] Downloading package stopwords to /Users/Kim/nltk_data...\n",
      "[nltk_data]   Package stopwords is already up-to-date!\n",
      "[nltk_data] Downloading package punkt to /Users/Kim/nltk_data...\n",
      "[nltk_data]   Package punkt is already up-to-date!\n"
     ]
    },
    {
     "data": {
      "text/plain": [
       "(44328, 373)"
      ]
     },
     "execution_count": 132,
     "metadata": {},
     "output_type": "execute_result"
    }
   ],
   "source": [
    "#Vectorizing comment text from reviews\n",
    "\n",
    "all_reviews = review_level_data.dropna()\n",
    "\n",
    "comments = all_reviews.comments\n",
    "cv = CountVectorizer(max_features=250)\n",
    "comments_cv = cv.fit_transform(comments)\n",
    "type(comments_cv)\n",
    "comments_cv.todense()\n",
    "cv.get_feature_names()\n",
    "df_comments = pd.DataFrame(comments_cv.todense(), columns = cv.get_feature_names())\n",
    "CountVectorizer()\n",
    "\n",
    "#Cleaning review text\n",
    "from nltk.corpus import stopwords\n",
    "import nltk\n",
    "\n",
    "nltk.download('stopwords')\n",
    "nltk.download('punkt')\n",
    "\n",
    "stopwords.words(\"english\")\n",
    "stop_words = set(stopwords.words(\"english\")+['airbnb','review', 'love', 'like', 'place', 'amaze', 'good', 'great', 'ok', 'best', 'would', 'amazing', 'happy', 'really', \"pretty\", \"get\", \"decent\", \"always\", \"perfect\", \"stay\", \"seem\", \"favorite\", \"try\", \"nice\", \"everything\"])\n",
    "\n",
    "comments[25]\n",
    "sentence_words = nltk.word_tokenize(comments[25])\n",
    "sentence_words\n",
    "' '.join(sentence_words)\n",
    "\n",
    "comments_stop_words = [i.lower() for i in sentence_words if i.lower() not in stop_words]\n",
    "sentence_words = nltk.word_tokenize(comments[25])\n",
    "' '.join(sentence_words)\n",
    "' '.join(comments_stop_words)\n",
    "\n",
    "punctuations=\"?:!.,;-@\"\n",
    "remove_punctuations = [i for i in comments_stop_words if i not in punctuations]\n",
    "' '.join(remove_punctuations)\n",
    "\n",
    "#Further cleaning and vectorizing data\n",
    "from nltk.stem.snowball import SnowballStemmer\n",
    "from nltk.stem import WordNetLemmatizer \n",
    "\n",
    "stemmer = SnowballStemmer('english')\n",
    "lemmatizer = WordNetLemmatizer() \n",
    "\n",
    "stemmer.stem('running')\n",
    "stemmer.stem('runs')\n",
    "stemmer.stem('ran')\n",
    "stemmed_punctuations = [stemmer.stem(i) for i in remove_punctuations]\n",
    "remove_punctuations\n",
    "' '.join(stemmed_punctuations)\n",
    "\n",
    "def clean_data(text):\n",
    "    sentence_words = nltk.word_tokenize(text)\n",
    "    \n",
    "    comments_stop_words = [i.lower() for i in sentence_words if i.lower() not in stop_words]\n",
    "    remove_punctuations = [i for i in comments_stop_words if i not in punctuations]\n",
    "    stemmed_punctuations = [stemmer.stem(i) for i in remove_punctuations]\n",
    "    \n",
    "    return ' '.join(stemmed_punctuations)\n",
    "\n",
    "clean_data(comments[50])\n",
    "all_reviews['clean_text'] = [clean_data(i) for i in all_reviews.comments]\n",
    "cv = CountVectorizer(min_df=.0075)\n",
    "text_cv = cv.fit_transform(all_reviews.clean_text)\n",
    "vectorized_clean_text = pd.DataFrame(text_cv.todense(), columns = cv.get_feature_names())\n",
    "vectorized_clean_text.shape"
   ]
  },
  {
   "cell_type": "code",
   "execution_count": 133,
   "metadata": {},
   "outputs": [
    {
     "data": {
      "text/html": [
       "<div>\n",
       "<style scoped>\n",
       "    .dataframe tbody tr th:only-of-type {\n",
       "        vertical-align: middle;\n",
       "    }\n",
       "\n",
       "    .dataframe tbody tr th {\n",
       "        vertical-align: top;\n",
       "    }\n",
       "\n",
       "    .dataframe thead th {\n",
       "        text-align: right;\n",
       "    }\n",
       "</style>\n",
       "<table border=\"1\" class=\"dataframe\">\n",
       "  <thead>\n",
       "    <tr style=\"text-align: right;\">\n",
       "      <th></th>\n",
       "      <th>10</th>\n",
       "      <th>100</th>\n",
       "      <th>15</th>\n",
       "      <th>20</th>\n",
       "      <th>abl</th>\n",
       "      <th>absolut</th>\n",
       "      <th>access</th>\n",
       "      <th>accommod</th>\n",
       "      <th>ador</th>\n",
       "      <th>air</th>\n",
       "      <th>...</th>\n",
       "      <th>whole</th>\n",
       "      <th>wifi</th>\n",
       "      <th>window</th>\n",
       "      <th>wish</th>\n",
       "      <th>within</th>\n",
       "      <th>without</th>\n",
       "      <th>wonder</th>\n",
       "      <th>work</th>\n",
       "      <th>worth</th>\n",
       "      <th>yard</th>\n",
       "    </tr>\n",
       "  </thead>\n",
       "  <tbody>\n",
       "    <tr>\n",
       "      <th>0</th>\n",
       "      <td>0</td>\n",
       "      <td>0</td>\n",
       "      <td>0</td>\n",
       "      <td>0</td>\n",
       "      <td>0</td>\n",
       "      <td>0</td>\n",
       "      <td>0</td>\n",
       "      <td>0</td>\n",
       "      <td>0</td>\n",
       "      <td>0</td>\n",
       "      <td>...</td>\n",
       "      <td>0</td>\n",
       "      <td>0</td>\n",
       "      <td>0</td>\n",
       "      <td>0</td>\n",
       "      <td>0</td>\n",
       "      <td>0</td>\n",
       "      <td>0</td>\n",
       "      <td>0</td>\n",
       "      <td>0</td>\n",
       "      <td>0</td>\n",
       "    </tr>\n",
       "    <tr>\n",
       "      <th>1</th>\n",
       "      <td>0</td>\n",
       "      <td>0</td>\n",
       "      <td>0</td>\n",
       "      <td>0</td>\n",
       "      <td>0</td>\n",
       "      <td>1</td>\n",
       "      <td>0</td>\n",
       "      <td>0</td>\n",
       "      <td>0</td>\n",
       "      <td>0</td>\n",
       "      <td>...</td>\n",
       "      <td>0</td>\n",
       "      <td>0</td>\n",
       "      <td>3</td>\n",
       "      <td>0</td>\n",
       "      <td>0</td>\n",
       "      <td>0</td>\n",
       "      <td>1</td>\n",
       "      <td>0</td>\n",
       "      <td>0</td>\n",
       "      <td>1</td>\n",
       "    </tr>\n",
       "    <tr>\n",
       "      <th>2</th>\n",
       "      <td>0</td>\n",
       "      <td>0</td>\n",
       "      <td>0</td>\n",
       "      <td>0</td>\n",
       "      <td>0</td>\n",
       "      <td>1</td>\n",
       "      <td>0</td>\n",
       "      <td>0</td>\n",
       "      <td>1</td>\n",
       "      <td>0</td>\n",
       "      <td>...</td>\n",
       "      <td>0</td>\n",
       "      <td>0</td>\n",
       "      <td>0</td>\n",
       "      <td>0</td>\n",
       "      <td>1</td>\n",
       "      <td>0</td>\n",
       "      <td>0</td>\n",
       "      <td>0</td>\n",
       "      <td>0</td>\n",
       "      <td>0</td>\n",
       "    </tr>\n",
       "    <tr>\n",
       "      <th>3</th>\n",
       "      <td>0</td>\n",
       "      <td>0</td>\n",
       "      <td>0</td>\n",
       "      <td>0</td>\n",
       "      <td>0</td>\n",
       "      <td>0</td>\n",
       "      <td>0</td>\n",
       "      <td>0</td>\n",
       "      <td>0</td>\n",
       "      <td>0</td>\n",
       "      <td>...</td>\n",
       "      <td>0</td>\n",
       "      <td>0</td>\n",
       "      <td>0</td>\n",
       "      <td>0</td>\n",
       "      <td>0</td>\n",
       "      <td>0</td>\n",
       "      <td>0</td>\n",
       "      <td>0</td>\n",
       "      <td>0</td>\n",
       "      <td>1</td>\n",
       "    </tr>\n",
       "    <tr>\n",
       "      <th>4</th>\n",
       "      <td>0</td>\n",
       "      <td>0</td>\n",
       "      <td>0</td>\n",
       "      <td>0</td>\n",
       "      <td>0</td>\n",
       "      <td>0</td>\n",
       "      <td>0</td>\n",
       "      <td>0</td>\n",
       "      <td>0</td>\n",
       "      <td>0</td>\n",
       "      <td>...</td>\n",
       "      <td>0</td>\n",
       "      <td>0</td>\n",
       "      <td>0</td>\n",
       "      <td>0</td>\n",
       "      <td>0</td>\n",
       "      <td>0</td>\n",
       "      <td>0</td>\n",
       "      <td>0</td>\n",
       "      <td>0</td>\n",
       "      <td>0</td>\n",
       "    </tr>\n",
       "  </tbody>\n",
       "</table>\n",
       "<p>5 rows × 373 columns</p>\n",
       "</div>"
      ],
      "text/plain": [
       "   10  100  15  20  abl  absolut  access  accommod  ador  air  ...  whole  \\\n",
       "0   0    0   0   0    0        0       0         0     0    0  ...      0   \n",
       "1   0    0   0   0    0        1       0         0     0    0  ...      0   \n",
       "2   0    0   0   0    0        1       0         0     1    0  ...      0   \n",
       "3   0    0   0   0    0        0       0         0     0    0  ...      0   \n",
       "4   0    0   0   0    0        0       0         0     0    0  ...      0   \n",
       "\n",
       "   wifi  window  wish  within  without  wonder  work  worth  yard  \n",
       "0     0       0     0       0        0       0     0      0     0  \n",
       "1     0       3     0       0        0       1     0      0     1  \n",
       "2     0       0     0       1        0       0     0      0     0  \n",
       "3     0       0     0       0        0       0     0      0     1  \n",
       "4     0       0     0       0        0       0     0      0     0  \n",
       "\n",
       "[5 rows x 373 columns]"
      ]
     },
     "execution_count": 133,
     "metadata": {},
     "output_type": "execute_result"
    }
   ],
   "source": [
    "vectorized_clean_text.head()"
   ]
  },
  {
   "cell_type": "code",
   "execution_count": 134,
   "metadata": {},
   "outputs": [
    {
     "name": "stderr",
     "output_type": "stream",
     "text": [
      "/Users/Kim/opt/anaconda3/lib/python3.8/site-packages/sklearn/linear_model/_logistic.py:762: ConvergenceWarning: lbfgs failed to converge (status=1):\n",
      "STOP: TOTAL NO. of ITERATIONS REACHED LIMIT.\n",
      "\n",
      "Increase the number of iterations (max_iter) or scale the data as shown in:\n",
      "    https://scikit-learn.org/stable/modules/preprocessing.html\n",
      "Please also refer to the documentation for alternative solver options:\n",
      "    https://scikit-learn.org/stable/modules/linear_model.html#logistic-regression\n",
      "  n_iter_i = _check_optimize_result(\n"
     ]
    },
    {
     "data": {
      "text/plain": [
       "LogisticRegression()"
      ]
     },
     "execution_count": 134,
     "metadata": {},
     "output_type": "execute_result"
    }
   ],
   "source": [
    "X = vectorized_clean_text\n",
    "y = all_reviews.aggregate_reviews\n",
    "\n",
    "# Train Test Split\n",
    "X_train, X_test, y_train, y_test = train_test_split(X, y, test_size=0.2)\n",
    "\n",
    "# Accuracy Score\n",
    "lr = LogisticRegression()\n",
    "lr.fit(X_train, y_train)"
   ]
  },
  {
   "cell_type": "code",
   "execution_count": 135,
   "metadata": {},
   "outputs": [
    {
     "data": {
      "text/plain": [
       "0.7575996841689696"
      ]
     },
     "execution_count": 135,
     "metadata": {},
     "output_type": "execute_result"
    }
   ],
   "source": [
    "predictions = lr.predict(X_train)\n",
    "metrics.accuracy_score(predictions, y_train)"
   ]
  },
  {
   "cell_type": "code",
   "execution_count": 136,
   "metadata": {
    "scrolled": true
   },
   "outputs": [
    {
     "data": {
      "text/plain": [
       "<matplotlib.axes._subplots.AxesSubplot at 0x1423a5e50>"
      ]
     },
     "execution_count": 136,
     "metadata": {},
     "output_type": "execute_result"
    },
    {
     "data": {
      "image/png": "[encoded data removed]",
      "text/plain": [
       "<Figure size 432x288 with 1 Axes>"
      ]
     },
     "metadata": {
      "needs_background": "light"
     },
     "output_type": "display_data"
    }
   ],
   "source": [
    "rf = RandomForestClassifier()\n",
    "\n",
    "rf.fit(X_train, y_train)\n",
    "\n",
    "X.columns\n",
    "rf.feature_importances_[:5]\n",
    "df = pd.DataFrame({'features': X.columns, 'importance': rf.feature_importances_})\\\n",
    "                    .sort_values('importance', ascending= False)\n",
    "sns.barplot(x = 'importance', y = 'features', data = df.head(10), orient='h')"
   ]
  },
  {
   "cell_type": "code",
   "execution_count": 137,
   "metadata": {},
   "outputs": [
    {
     "name": "stdout",
     "output_type": "stream",
     "text": [
      "Model Error: 0.6635309510918607\n",
      "Benchmark: 0.5564119053438688\n"
     ]
    }
   ],
   "source": [
    "print(f'Model Error: {metrics.mean_squared_error(lr.predict(X), y)}')\n",
    "print(f'Benchmark: {metrics.mean_squared_error([y.mean() for i in range(len(y))], y)}')"
   ]
  },
  {
   "cell_type": "code",
   "execution_count": 149,
   "metadata": {},
   "outputs": [
    {
     "name": "stderr",
     "output_type": "stream",
     "text": [
      "[nltk_data] Downloading package stopwords to /Users/Kim/nltk_data...\n",
      "[nltk_data]   Package stopwords is already up-to-date!\n",
      "[nltk_data] Downloading package punkt to /Users/Kim/nltk_data...\n",
      "[nltk_data]   Package punkt is already up-to-date!\n",
      "<ipython-input-149-676d4c98c878>:62: SettingWithCopyWarning: \n",
      "A value is trying to be set on a copy of a slice from a DataFrame.\n",
      "Try using .loc[row_indexer,col_indexer] = value instead\n",
      "\n",
      "See the caveats in the documentation: https://pandas.pydata.org/pandas-docs/stable/user_guide/indexing.html#returning-a-view-versus-a-copy\n",
      "  all_listings['clean_text'] = [clean_data(i) for i in all_listings.description]\n"
     ]
    },
    {
     "data": {
      "text/plain": [
       "(353, 1414)"
      ]
     },
     "execution_count": 149,
     "metadata": {},
     "output_type": "execute_result"
    }
   ],
   "source": [
    "#Vectorizing comment text from reviews\n",
    "\n",
    "all_listings = listing_level_data.dropna()\n",
    "\n",
    "description = all_listings.description\n",
    "cv = CountVectorizer(max_features=250)\n",
    "description_cv = cv.fit_transform(comments)\n",
    "type(description_cv)\n",
    "description_cv.todense()\n",
    "cv.get_feature_names()\n",
    "df_description = pd.DataFrame(description_cv.todense(), columns = cv.get_feature_names())\n",
    "CountVectorizer()\n",
    "\n",
    "#Cleaning review text\n",
    "from nltk.corpus import stopwords\n",
    "import nltk\n",
    "\n",
    "nltk.download('stopwords')\n",
    "nltk.download('punkt')\n",
    "\n",
    "stopwords.words(\"english\")\n",
    "stop_words = set(stopwords.words(\"english\")+['br', 'airbnb','review', 'love', 'like', 'place', 'amaze', 'good', 'great', 'ok', 'best', 'would', 'amazing', 'happy', 'really', \"pretty\", \"get\", \"decent\", \"always\", \"perfect\", \"stay\", \"seem\", \"favorite\", \"try\", \"nice\", \"everything\"])\n",
    "\n",
    "description[25]\n",
    "sentence_words = nltk.word_tokenize(comments[25])\n",
    "sentence_words\n",
    "' '.join(sentence_words)\n",
    "\n",
    "description_stop_words = [i.lower() for i in sentence_words if i.lower() not in stop_words]\n",
    "sentence_words = nltk.word_tokenize(description[25])\n",
    "' '.join(sentence_words)\n",
    "' '.join(comments_stop_words)\n",
    "\n",
    "punctuations=\"?:!.,;-@\"\n",
    "remove_punctuations = [i for i in description_stop_words if i not in punctuations]\n",
    "' '.join(remove_punctuations)\n",
    "\n",
    "#Further cleaning and vectorizing data\n",
    "from nltk.stem.snowball import SnowballStemmer\n",
    "from nltk.stem import WordNetLemmatizer \n",
    "\n",
    "stemmer = SnowballStemmer('english')\n",
    "lemmatizer = WordNetLemmatizer() \n",
    "\n",
    "stemmer.stem('running')\n",
    "stemmer.stem('runs')\n",
    "stemmer.stem('ran')\n",
    "stemmed_punctuations = [stemmer.stem(i) for i in remove_punctuations]\n",
    "remove_punctuations\n",
    "' '.join(stemmed_punctuations)\n",
    "\n",
    "def clean_data(text):\n",
    "    sentence_words = nltk.word_tokenize(text)\n",
    "    \n",
    "    description_stop_words = [i.lower() for i in sentence_words if i.lower() not in stop_words]\n",
    "    remove_punctuations = [i for i in description_stop_words if i not in punctuations]\n",
    "    stemmed_punctuations = [stemmer.stem(i) for i in remove_punctuations]\n",
    "    \n",
    "    return ' '.join(stemmed_punctuations)\n",
    "\n",
    "clean_data(comments[50])\n",
    "all_listings['clean_text'] = [clean_data(i) for i in all_listings.description]\n",
    "cv = CountVectorizer(min_df=.0075)\n",
    "text_cv = cv.fit_transform(all_listings.clean_text)\n",
    "vectorized_clean_text = pd.DataFrame(text_cv.todense(), columns = cv.get_feature_names())\n",
    "vectorized_clean_text.shape"
   ]
  },
  {
   "cell_type": "code",
   "execution_count": 150,
   "metadata": {},
   "outputs": [
    {
     "data": {
      "text/html": [
       "<div>\n",
       "<style scoped>\n",
       "    .dataframe tbody tr th:only-of-type {\n",
       "        vertical-align: middle;\n",
       "    }\n",
       "\n",
       "    .dataframe tbody tr th {\n",
       "        vertical-align: top;\n",
       "    }\n",
       "\n",
       "    .dataframe thead th {\n",
       "        text-align: right;\n",
       "    }\n",
       "</style>\n",
       "<table border=\"1\" class=\"dataframe\">\n",
       "  <thead>\n",
       "    <tr style=\"text-align: right;\">\n",
       "      <th></th>\n",
       "      <th>10</th>\n",
       "      <th>100</th>\n",
       "      <th>101</th>\n",
       "      <th>10pm</th>\n",
       "      <th>11</th>\n",
       "      <th>12</th>\n",
       "      <th>14</th>\n",
       "      <th>15</th>\n",
       "      <th>150</th>\n",
       "      <th>16</th>\n",
       "      <th>...</th>\n",
       "      <th>yard</th>\n",
       "      <th>year</th>\n",
       "      <th>yes</th>\n",
       "      <th>yet</th>\n",
       "      <th>yoga</th>\n",
       "      <th>york</th>\n",
       "      <th>you</th>\n",
       "      <th>yourself</th>\n",
       "      <th>zen</th>\n",
       "      <th>zoo</th>\n",
       "    </tr>\n",
       "  </thead>\n",
       "  <tbody>\n",
       "    <tr>\n",
       "      <th>0</th>\n",
       "      <td>0</td>\n",
       "      <td>1</td>\n",
       "      <td>0</td>\n",
       "      <td>0</td>\n",
       "      <td>0</td>\n",
       "      <td>0</td>\n",
       "      <td>1</td>\n",
       "      <td>0</td>\n",
       "      <td>0</td>\n",
       "      <td>0</td>\n",
       "      <td>...</td>\n",
       "      <td>0</td>\n",
       "      <td>1</td>\n",
       "      <td>0</td>\n",
       "      <td>0</td>\n",
       "      <td>0</td>\n",
       "      <td>0</td>\n",
       "      <td>0</td>\n",
       "      <td>0</td>\n",
       "      <td>0</td>\n",
       "      <td>0</td>\n",
       "    </tr>\n",
       "    <tr>\n",
       "      <th>1</th>\n",
       "      <td>0</td>\n",
       "      <td>0</td>\n",
       "      <td>0</td>\n",
       "      <td>0</td>\n",
       "      <td>0</td>\n",
       "      <td>0</td>\n",
       "      <td>0</td>\n",
       "      <td>0</td>\n",
       "      <td>0</td>\n",
       "      <td>0</td>\n",
       "      <td>...</td>\n",
       "      <td>0</td>\n",
       "      <td>0</td>\n",
       "      <td>0</td>\n",
       "      <td>0</td>\n",
       "      <td>0</td>\n",
       "      <td>0</td>\n",
       "      <td>0</td>\n",
       "      <td>0</td>\n",
       "      <td>0</td>\n",
       "      <td>0</td>\n",
       "    </tr>\n",
       "    <tr>\n",
       "      <th>2</th>\n",
       "      <td>1</td>\n",
       "      <td>0</td>\n",
       "      <td>0</td>\n",
       "      <td>0</td>\n",
       "      <td>0</td>\n",
       "      <td>0</td>\n",
       "      <td>0</td>\n",
       "      <td>0</td>\n",
       "      <td>0</td>\n",
       "      <td>0</td>\n",
       "      <td>...</td>\n",
       "      <td>0</td>\n",
       "      <td>0</td>\n",
       "      <td>0</td>\n",
       "      <td>0</td>\n",
       "      <td>0</td>\n",
       "      <td>0</td>\n",
       "      <td>0</td>\n",
       "      <td>0</td>\n",
       "      <td>0</td>\n",
       "      <td>0</td>\n",
       "    </tr>\n",
       "    <tr>\n",
       "      <th>3</th>\n",
       "      <td>0</td>\n",
       "      <td>0</td>\n",
       "      <td>0</td>\n",
       "      <td>0</td>\n",
       "      <td>0</td>\n",
       "      <td>0</td>\n",
       "      <td>0</td>\n",
       "      <td>0</td>\n",
       "      <td>0</td>\n",
       "      <td>0</td>\n",
       "      <td>...</td>\n",
       "      <td>0</td>\n",
       "      <td>0</td>\n",
       "      <td>0</td>\n",
       "      <td>1</td>\n",
       "      <td>0</td>\n",
       "      <td>0</td>\n",
       "      <td>0</td>\n",
       "      <td>0</td>\n",
       "      <td>0</td>\n",
       "      <td>0</td>\n",
       "    </tr>\n",
       "    <tr>\n",
       "      <th>4</th>\n",
       "      <td>0</td>\n",
       "      <td>0</td>\n",
       "      <td>0</td>\n",
       "      <td>0</td>\n",
       "      <td>0</td>\n",
       "      <td>0</td>\n",
       "      <td>0</td>\n",
       "      <td>0</td>\n",
       "      <td>0</td>\n",
       "      <td>0</td>\n",
       "      <td>...</td>\n",
       "      <td>0</td>\n",
       "      <td>0</td>\n",
       "      <td>0</td>\n",
       "      <td>0</td>\n",
       "      <td>0</td>\n",
       "      <td>0</td>\n",
       "      <td>0</td>\n",
       "      <td>0</td>\n",
       "      <td>0</td>\n",
       "      <td>0</td>\n",
       "    </tr>\n",
       "  </tbody>\n",
       "</table>\n",
       "<p>5 rows × 1414 columns</p>\n",
       "</div>"
      ],
      "text/plain": [
       "   10  100  101  10pm  11  12  14  15  150  16  ...  yard  year  yes  yet  \\\n",
       "0   0    1    0     0   0   0   1   0    0   0  ...     0     1    0    0   \n",
       "1   0    0    0     0   0   0   0   0    0   0  ...     0     0    0    0   \n",
       "2   1    0    0     0   0   0   0   0    0   0  ...     0     0    0    0   \n",
       "3   0    0    0     0   0   0   0   0    0   0  ...     0     0    0    1   \n",
       "4   0    0    0     0   0   0   0   0    0   0  ...     0     0    0    0   \n",
       "\n",
       "   yoga  york  you  yourself  zen  zoo  \n",
       "0     0     0    0         0    0    0  \n",
       "1     0     0    0         0    0    0  \n",
       "2     0     0    0         0    0    0  \n",
       "3     0     0    0         0    0    0  \n",
       "4     0     0    0         0    0    0  \n",
       "\n",
       "[5 rows x 1414 columns]"
      ]
     },
     "execution_count": 150,
     "metadata": {},
     "output_type": "execute_result"
    }
   ],
   "source": [
    "vectorized_clean_text.head()"
   ]
  },
  {
   "cell_type": "code",
   "execution_count": 151,
   "metadata": {},
   "outputs": [
    {
     "name": "stderr",
     "output_type": "stream",
     "text": [
      "/Users/Kim/opt/anaconda3/lib/python3.8/site-packages/sklearn/linear_model/_logistic.py:762: ConvergenceWarning: lbfgs failed to converge (status=1):\n",
      "STOP: TOTAL NO. of ITERATIONS REACHED LIMIT.\n",
      "\n",
      "Increase the number of iterations (max_iter) or scale the data as shown in:\n",
      "    https://scikit-learn.org/stable/modules/preprocessing.html\n",
      "Please also refer to the documentation for alternative solver options:\n",
      "    https://scikit-learn.org/stable/modules/linear_model.html#logistic-regression\n",
      "  n_iter_i = _check_optimize_result(\n"
     ]
    },
    {
     "data": {
      "text/plain": [
       "LogisticRegression()"
      ]
     },
     "execution_count": 151,
     "metadata": {},
     "output_type": "execute_result"
    }
   ],
   "source": [
    "X = vectorized_clean_text\n",
    "y = all_listings.review_change\n",
    "\n",
    "# Train Test Split\n",
    "X_train, X_test, y_train, y_test = train_test_split(X, y, test_size=0.2)\n",
    "\n",
    "# Accuracy Score\n",
    "lr = LogisticRegression()\n",
    "lr.fit(X_train, y_train)"
   ]
  },
  {
   "cell_type": "code",
   "execution_count": 152,
   "metadata": {},
   "outputs": [
    {
     "data": {
      "text/plain": [
       "0.9964539007092199"
      ]
     },
     "execution_count": 152,
     "metadata": {},
     "output_type": "execute_result"
    }
   ],
   "source": [
    "predictions = lr.predict(X_train)\n",
    "metrics.accuracy_score(predictions, y_train)"
   ]
  },
  {
   "cell_type": "code",
   "execution_count": 158,
   "metadata": {},
   "outputs": [
    {
     "data": {
      "text/plain": [
       "<matplotlib.axes._subplots.AxesSubplot at 0x14172a400>"
      ]
     },
     "execution_count": 158,
     "metadata": {},
     "output_type": "execute_result"
    },
    {
     "data": {
      "image/png": "[encoded data removed]",
      "text/plain": [
       "<Figure size 432x288 with 1 Axes>"
      ]
     },
     "metadata": {
      "needs_background": "light"
     },
     "output_type": "display_data"
    }
   ],
   "source": [
    "rf = RandomForestClassifier()\n",
    "\n",
    "rf.fit(X_train, y_train)\n",
    "\n",
    "X.columns\n",
    "rf.feature_importances_[:5]\n",
    "df = pd.DataFrame({'features': X.columns, 'importance': rf.feature_importances_})\\\n",
    "                    .sort_values('importance', ascending= False)\n",
    "sns.barplot(x = 'importance', y = 'features', data = df.head(20), orient='h')"
   ]
  },
  {
   "cell_type": "code",
   "execution_count": 148,
   "metadata": {},
   "outputs": [
    {
     "data": {
      "text/plain": [
       "2     **THIS SUPERHOST IS ANTI-TRUMP** Everyone is w...\n",
       "8     The unit is about 350 sq. ft. and is the whole...\n",
       "9     Live the California lifestyle in our grand Spa...\n",
       "10    Guest House<br /><br /><b>The space</b><br />F...\n",
       "12    Two-room pool-house in which we will allow you...\n",
       "Name: description, dtype: object"
      ]
     },
     "execution_count": 148,
     "metadata": {},
     "output_type": "execute_result"
    }
   ],
   "source": [
    "listing_level_data['description'].head()"
   ]
  },
  {
   "cell_type": "markdown",
   "metadata": {},
   "source": [
    "## PART 4 - RECOMMENDATIONS"
   ]
  },
  {
   "cell_type": "markdown",
   "metadata": {},
   "source": [
    "Price and number of days the listing is available have the largest impact on review ratings. This holds true before and after COVID 19, with the regression model performing significantly better than the benchmark score in both cases.\n",
    "\n",
    "While results were not statistically significant, those with higher reviewing ratings had an average price point of 108 dollars per night, whereas those will lower ratings had an average price point of approximately 117 dollars per night.\n",
    "\n",
    "Airbnbs with higher review ratings were open for an average of 185 to 195 days a year, compared to those will slightly lower ratings, which were open an average of 230 days per year or more.\n",
    "\n",
    "Identifying the correct price point and number of days open are of particular importance in receiving good ratings. Listings that were available to book only one night also tended to have lower review ratings.\n",
    "\n",
    "Review comment text indicated that location, clealiness, space, and comfort were all of importance in predicting review ratings. Cleaniess apears to be of particular importance in predicting reviews as the random forrest model found this to be of one of the primary factors in predicting review ratings. This finding held true even prior to COVID 19."
   ]
  },
  {
   "cell_type": "code",
   "execution_count": null,
   "metadata": {},
   "outputs": [],
   "source": []
  }
 ],
 "metadata": {
  "celltoolbar": "Slideshow",
  "kernelspec": {
   "display_name": "Python 3",
   "language": "python",
   "name": "python3"
  },
  "language_info": {
   "codemirror_mode": {
    "name": "ipython",
    "version": 3
   },
   "file_extension": ".py",
   "mimetype": "text/x-python",
   "name": "python",
   "nbconvert_exporter": "python",
   "pygments_lexer": "ipython3",
   "version": "3.8.3"
  }
 },
 "nbformat": 4,
 "nbformat_minor": 4
}
